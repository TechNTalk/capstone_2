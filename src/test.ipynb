{
 "cells": [
  {
   "cell_type": "code",
   "execution_count": 157,
   "metadata": {},
   "outputs": [],
   "source": [
    "import subprocess\n",
    "import ast\n",
    "import json\n",
    "import requests"
   ]
  },
  {
   "cell_type": "code",
   "execution_count": 148,
   "metadata": {},
   "outputs": [],
   "source": [
    "api_url1 = \"https://api.chess.com/pub/player/{username}\"\n",
    "# response = requests.get(api_url)  \n",
    "# response"
   ]
  },
  {
   "cell_type": "code",
   "execution_count": 149,
   "metadata": {},
   "outputs": [
    {
     "data": {
      "text/plain": [
       "'{\"player_id\":92105376,\"@id\":\"https://api.chess.com/pub/player/username\",\"url\":\"https://www.chess.com/member/username\",\"username\":\"username\",\"followers\":0,\"country\":\"https://api.chess.com/pub/country/GB\",\"last_online\":1601320931,\"joined\":1601285779,\"status\":\"closed:abuse\",\"is_streamer\":false,\"verified\":false}'"
      ]
     },
     "execution_count": 149,
     "metadata": {},
     "output_type": "execute_result"
    }
   ],
   "source": [
    "# url\n",
    "def cr(api_url1):\n",
    "    command = ['curl', '-v', api_url1]\n",
    "    rs = subprocess.run(command, capture_output=True, text=True)\n",
    "    return rs.stdout\n",
    "cr(api_url1)"
   ]
  },
  {
   "cell_type": "code",
   "execution_count": 150,
   "metadata": {},
   "outputs": [],
   "source": [
    "def cr(api_url1):\n",
    "    command = ['curl', '-v', api_url1]\n",
    "    rs = subprocess.run(command, capture_output=True, text=True)\n",
    "    return rs.stdout\n",
    "variable = cr(api_url1)\n",
    "# len(variable.split(\",\"))\n",
    "the_dict= {}\n",
    "v2 = variable.split(\",\")\n",
    "the_diccccc = {(value.split('\":')[0]).strip('{\"'):(value.split('\":')[1]).strip('\"}') for value in variable.split(\",\")}\n",
    "# for value in v2:\n",
    "#     the_dict[(value.split('\":')[0]).strip('{\"')] = (value.split('\":')[1]).strip('\"}')\n"
   ]
  },
  {
   "cell_type": "code",
   "execution_count": 163,
   "metadata": {},
   "outputs": [
    {
     "data": {
      "text/plain": [
       "{'player_id': '92105376',\n",
       " '@id': 'https://api.chess.com/pub/player/username',\n",
       " 'url': 'https://www.chess.com/member/username',\n",
       " 'username': 'username',\n",
       " 'followers': '0',\n",
       " 'country': 'https://api.chess.com/pub/country/GB',\n",
       " 'last_online': '1601320931',\n",
       " 'joined': '1601285779',\n",
       " 'status': 'closed:abuse',\n",
       " 'is_streamer': 'false',\n",
       " 'verified': 'false'}"
      ]
     },
     "execution_count": 163,
     "metadata": {},
     "output_type": "execute_result"
    }
   ],
   "source": [
    "the_diccccc"
   ]
  },
  {
   "cell_type": "code",
   "execution_count": 158,
   "metadata": {},
   "outputs": [
    {
     "ename": "AttributeError",
     "evalue": "'dict' object has no attribute 'json'",
     "output_type": "error",
     "traceback": [
      "\u001b[0;31m---------------------------------------------------------------------------\u001b[0m",
      "\u001b[0;31mAttributeError\u001b[0m                            Traceback (most recent call last)",
      "Cell \u001b[0;32mIn[158], line 3\u001b[0m\n\u001b[1;32m      1\u001b[0m \u001b[39mimport\u001b[39;00m \u001b[39mjson\u001b[39;00m\n\u001b[1;32m      2\u001b[0m the_diccccc\n\u001b[0;32m----> 3\u001b[0m requests\u001b[39m.\u001b[39mget(the_diccccc\u001b[39m.\u001b[39;49mjson()[\u001b[39m'\u001b[39m\u001b[39m@id\u001b[39m\u001b[39m'\u001b[39m])\n",
      "\u001b[0;31mAttributeError\u001b[0m: 'dict' object has no attribute 'json'"
     ]
    }
   ],
   "source": [
    "import json\n",
    "the_diccccc\n",
    "subprocess.run(the_diccccc.json()['@id'])\n",
    "\n"
   ]
  },
  {
   "cell_type": "code",
   "execution_count": 161,
   "metadata": {},
   "outputs": [
    {
     "data": {
      "text/plain": [
       "'https://api.chess.com/pub/player/username'"
      ]
     },
     "execution_count": 161,
     "metadata": {},
     "output_type": "execute_result"
    }
   ],
   "source": [
    "the_diccccc['@id']"
   ]
  }
 ],
 "metadata": {
  "kernelspec": {
   "display_name": "Python 3",
   "language": "python",
   "name": "python3"
  },
  "language_info": {
   "codemirror_mode": {
    "name": "ipython",
    "version": 3
   },
   "file_extension": ".py",
   "mimetype": "text/x-python",
   "name": "python",
   "nbconvert_exporter": "python",
   "pygments_lexer": "ipython3",
   "version": "3.9.6"
  },
  "orig_nbformat": 4
 },
 "nbformat": 4,
 "nbformat_minor": 2
}
