{
 "cells": [
  {
   "cell_type": "code",
   "execution_count": 24,
   "metadata": {},
   "outputs": [],
   "source": [
    "import pandas as pd\n",
    "import urllib.request\n",
    "import json\n",
    "from pathlib import Path\n",
    "import plotly.express as px\n",
    "import requests;\n",
    "import numpy as np;"
   ]
  },
  {
   "cell_type": "code",
   "execution_count": 5,
   "metadata": {},
   "outputs": [],
   "source": [
    "api_url = \"https://newsapi.org/v2/everything?q=keyword&apiKey=cfed43bddf6146daad4f2b3e6651ba82\"\n",
    "response = requests.get(api_url)"
   ]
  },
  {
   "cell_type": "code",
   "execution_count": 6,
   "metadata": {},
   "outputs": [
    {
     "data": {
      "text/plain": [
       "[{'source': {'id': 'engadget', 'name': 'Engadget'},\n",
       "  'author': 'Karissa Bell',\n",
       "  'title': 'X hopes ‘sensitivity settings’ will bring back advertisers',\n",
       "  'description': 'X is giving advertisers new ways to have some control over what type of content can appear near their ads. The company formerly known as Twitter introduced\\r\\n new “sensitivity settings” that allow advertisers to choose between different types of content filter…',\n",
       "  'url': 'https://www.engadget.com/x-hopes-sensitivity-settings-will-bring-back-advertisers-215439809.html',\n",
       "  'urlToImage': 'https://s.yimg.com/uu/api/res/1.2/P2oxIvpENWHFwLm2kjcEsg--~B/Zmk9ZmlsbDtoPTYzMDtweW9mZj0wO3c9MTIwMDthcHBpZD15dGFjaHlvbg--/https://media-mbst-pub-ue1.s3.amazonaws.com/creatr-uploaded-images/2023-08/5fb50e70-3632-11ee-bece-84e68f4734d0.cf.jpg',\n",
       "  'publishedAt': '2023-08-08T21:54:39Z',\n",
       "  'content': 'X is giving advertisers new ways to have some control over what type of content can appear near their ads. The company formerly known as Twitter introduced\\r\\n new sensitivity settings that allow adver… [+2195 chars]'},\n",
       " {'source': {'id': None, 'name': 'Hackaday'},\n",
       "  'author': 'Al Williams',\n",
       "  'title': 'The AI Engine that Fits in 100K',\n",
       "  'description': 'Running your own AI models is possible, but it requires a giant computer, right? Maybe not. Researchers at NVidia are showing off Perfusion, a text-to-image model they say is 100KB in size and take…',\n",
       "  'url': 'https://hackaday.com/2023/08/02/the-ai-engine-that-fits-in-100k/',\n",
       "  'urlToImage': 'https://hackaday.com/wp-content/uploads/2023/08/ai.png',\n",
       "  'publishedAt': '2023-08-02T23:00:52Z',\n",
       "  'content': 'Running your own AI models is possible, but it requires a giant computer, right? Maybe not. Researchers at NVidia are showing off Perfusion, a text-to-image model they say is 100KB in size and takes … [+2048 chars]'},\n",
       " {'source': {'id': None, 'name': 'ReadWrite'},\n",
       "  'author': 'Al Sefati',\n",
       "  'title': 'Unlocking Big Success: Harnessing the Power of Integrated Search Marketing Strategies',\n",
       "  'description': 'In the dynamic world of search marketing, the strategic fusion of organic and paid strategies has emerged as a game-changer […]\\nThe post Unlocking Big Success: Harnessing the Power of Integrated Search Marketing Strategies appeared first on ReadWrite.',\n",
       "  'url': 'https://readwrite.com/unlocking-big-success-harnessing-the-power-of-integrated-search-marketing-strategies/',\n",
       "  'urlToImage': 'https://readwrite.com/wp-content/uploads/2023/07/Integrated-Search-Marketing.jpg',\n",
       "  'publishedAt': '2023-08-23T20:00:33Z',\n",
       "  'content': 'In the dynamic world of search marketing, the strategic fusion of organic and paid strategies has emerged as a game-changer for brands seeking unrivaled success in the digital realm. Let’s delve into… [+6181 chars]'},\n",
       " {'source': {'id': None, 'name': 'Nullpt.rs'},\n",
       "  'author': None,\n",
       "  'title': 'Evading JavaScript anti-debugging techniques',\n",
       "  'description': 'Debuggers serve as invaluable tools that empower developers to halt code execution and thoroughly analyze its behavior at any given moment. By utilizing debuggers, developers can efficiently identify and resolve issues within their code, making it an indispen…',\n",
       "  'url': 'https://www.nullpt.rs/evading-anti-debugging-techniques',\n",
       "  'urlToImage': None,\n",
       "  'publishedAt': '2023-08-01T19:35:45Z',\n",
       "  'content': 'Debuggers serve as invaluable tools that empower developers to halt code execution and thoroughly\\r\\nanalyze its behavior at any given moment. By utilizing a debugger, developers can efficiently\\r\\nident… [+4104 chars]'},\n",
       " {'source': {'id': None, 'name': 'Android Central'},\n",
       "  'author': 'tips@androidcentral.com (Nickolas Diaz)',\n",
       "  'title': 'Google redesigns its Arts & Culture app with an Inspire feed and AI poems',\n",
       "  'description': 'Google launches its Arts & Culture app redesign alongside new features and AI assistance.',\n",
       "  'url': 'https://www.androidcentral.com/apps-software/google-arts-and-culture-redesign',\n",
       "  'urlToImage': 'https://cdn.mos.cms.futurecdn.net/vy9wjipiWtnzpbzdancHpd-1200-80.jpg',\n",
       "  'publishedAt': '2023-08-10T21:19:43Z',\n",
       "  'content': \"<ul><li>Google's redesigned Arts &amp; Culture app includes a new Explore tab and an Inspire tab with a rolling feed of artifacts and stories.</li><li>Users can create AI poems backed by Google's PaL… [+2368 chars]\"},\n",
       " {'source': {'id': None, 'name': 'Android Central'},\n",
       "  'author': 'tips@androidcentral.com (Nickolas Diaz)',\n",
       "  'title': 'Google Photos rolls out Memories view with AI at its core',\n",
       "  'description': \"Google is rolling out Memories view to Photos for the U.S. with AI software that curates and organizes life's moments.\",\n",
       "  'url': 'https://www.androidcentral.com/apps-software/google-photos-memories-view-rollout',\n",
       "  'urlToImage': 'https://cdn.mos.cms.futurecdn.net/79P3D9KKfz7VCaxGJLh3q7-1200-80.jpg',\n",
       "  'publishedAt': '2023-08-15T17:52:41Z',\n",
       "  'content': '<ul><li>Google is starting to roll out its Memories view tab to U.S. users, with global users set to gain it in the \"coming months.\"</li><li>Memories view is backed by generative AI, which will curat… [+2298 chars]'},\n",
       " {'source': {'id': None, 'name': 'Small Business Trends'},\n",
       "  'author': 'Shubhomita Bose',\n",
       "  'title': 'Use “Gift” as Keyword For Valentine’s Day Marketing',\n",
       "  'description': 'Planning on a special marketing effort for Valentine\\'s Day this year? New data suggests that using the word \"gift\" is a must in a promo and don\\'t forget about singles, who also tend to spend more on a day that targets couples.',\n",
       "  'url': 'https://smallbiztrends.com/2016/01/gift-valentines-day-keyword-online-marketing.html',\n",
       "  'urlToImage': 'https://media.smallbiztrends.com/2016/01/valentines-gift-BING-1-660x370.png',\n",
       "  'publishedAt': '2023-08-10T14:24:47Z',\n",
       "  'content': 'Valentines Day is more than just an emblem of love and romance; its also one of the calendars most eagerly anticipated holidays. As this day of affection draws near, businesses gear up for a signific… [+4682 chars]'},\n",
       " {'source': {'id': None, 'name': 'ReadWrite'},\n",
       "  'author': 'Nate Nead',\n",
       "  'title': 'Test Automation Frameworks: A Beginner’s Guide to Choosing, Implementing, and Optimizing',\n",
       "  'description': 'Test automation frameworks provide a set of features and best practices designed to help build efficient, effective test automation systems. […]\\nThe post Test Automation Frameworks: A Beginner’s Guide to Choosing, Implementing, and Optimizing appeared first o…',\n",
       "  'url': 'https://readwrite.com/test-automation-frameworks/',\n",
       "  'urlToImage': 'https://images.readwrite.com/wp-content/uploads/2022/03/Offshoring-Software-Development.jpg',\n",
       "  'publishedAt': '2023-07-31T15:17:17Z',\n",
       "  'content': 'Test automation frameworks provide a set of features and best practices designed to help build efficient, effective test automation systems.\\r\\nBy providing automated solutions for frequently repeated … [+10594 chars]'},\n",
       " {'source': {'id': None, 'name': 'Forbes'},\n",
       "  'author': 'YEC, Forbes Councils Member, \\n YEC, Forbes Councils Member\\n https://www.forbes.com/sites/theyec/',\n",
       "  'title': 'How To Ramp Up Your Content Production In 2023',\n",
       "  'description': 'Ultimately, if you want to see real results in content marketing, you should focus on providing value to your reader or customer.',\n",
       "  'url': 'https://www.forbes.com/sites/theyec/2023/08/04/how-to-ramp-up-your-content-production-in-2023/',\n",
       "  'urlToImage': 'https://imageio.forbes.com/specials-images/imageserve/62f2625321ea64f337fe6374/0x0.jpg?format=jpg&width=1200',\n",
       "  'publishedAt': '2023-08-04T10:00:00Z',\n",
       "  'content': \"By Amine Rahal, a tech entrepreneur and writer. He is currently the CEO of IronMonk Solutions.\\r\\ngetty\\r\\nIn 2023, the web is crowded with more content than ever. Its no surprise, then, that it's import… [+4977 chars]\"},\n",
       " {'source': {'id': None, 'name': 'Moz.com'},\n",
       "  'author': 'Rejoice Ojiaku',\n",
       "  'title': \"Map Your Keywords to the Buyer's Journey and User Intent — Whiteboard Friday\",\n",
       "  'description': 'Rejoice takes you through how to map your keywords to both the buyer’s purchasing journey and the relative user intent.',\n",
       "  'url': 'https://moz.com/blog/buyers-journey-and-user-intent-whiteboard-friday',\n",
       "  'urlToImage': None,\n",
       "  'publishedAt': '2023-08-25T07:00:00Z',\n",
       "  'content': 'Rejoice takes you through how to map your keywords to both the buyer’s purchasing journey and the relative user intent.\\r\\nClick on the whiteboard image above to open a high resolution version in a new… [+7278 chars]'},\n",
       " {'source': {'id': None, 'name': 'Small Business Trends'},\n",
       "  'author': 'Small Business Editor',\n",
       "  'title': 'Semrush Enhances Local SEO Tool with ChatGPT AI Features',\n",
       "  'description': 'Semrush unveils AI-driven ChatGPT features, enhancing local SEO for small businesses by optimizing reviews and keyword strategies.',\n",
       "  'url': 'https://smallbiztrends.com/2023/08/semrush-enhances-local-seo-tool-with-chatgpt-ai-features.html',\n",
       "  'urlToImage': 'https://smallbiztrends.com/wp-content/themes/sahifa/images/logo-full.jpg',\n",
       "  'publishedAt': '2023-08-19T12:30:01Z',\n",
       "  'content': 'Semrush has unveiled two groundbreaking ChatGPT features in its Listing Management tool. These advancements promise small business owners a significant edge in local SEO efforts. This is as the digit… [+2781 chars]'},\n",
       " {'source': {'id': None, 'name': 'Android Central'},\n",
       "  'author': 'tips@androidcentral.com (Nickolas Diaz)',\n",
       "  'title': \"The Fitbit app's major redesign rolls out this fall\",\n",
       "  'description': 'Google informs users that its redesigned Fitbit app will arrive \"later this fall.\"',\n",
       "  'url': 'https://www.androidcentral.com/apps-software/fitbit-app-redesign-fall-announcement',\n",
       "  'urlToImage': 'https://cdn.mos.cms.futurecdn.net/grypT9pDeNgQcUGYkfUguk-1200-80.jpg',\n",
       "  'publishedAt': '2023-08-01T17:32:54Z',\n",
       "  'content': '<ul><li>Google announces its redesigned Fitbit app will roll out \"later this fall\" and will include just three tabs for users.</li><li>Users will find \"Today,\" \"Coach,\" and \"You\" tabs for health stat… [+2780 chars]'},\n",
       " {'source': {'id': None, 'name': 'Android Central'},\n",
       "  'author': 'tips@androidcentral.com (Nickolas Diaz)',\n",
       "  'title': \"Google's generative AI can summarize articles while you browse\",\n",
       "  'description': 'Google is rolling out \"SGE while browsing\" to give users quick AI-generated key points from long articles.',\n",
       "  'url': 'https://www.androidcentral.com/apps-software/google-sge-while-browsing',\n",
       "  'urlToImage': 'https://cdn.mos.cms.futurecdn.net/QKr6aVfpewsGFuPCNr79TX-1200-80.jpeg',\n",
       "  'publishedAt': '2023-08-15T20:17:30Z',\n",
       "  'content': '<ul><li>Google is rolling out \"SGE while browsing\" for Labs participants to gain quick bits of important information from lengthy articles.</li><li>The \"Explore on page\" lets interested parties gain … [+2789 chars]'},\n",
       " {'source': {'id': None, 'name': 'Gizmodo.jp'},\n",
       "  'author': 'ヨコヤマコム',\n",
       "  'title': 'GoogleがFitbitアプリを刷新。よりGoogleっぽいデザインに',\n",
       "  'description': 'スマートウォッチやアクティブトラッカーで知られるGoogle（グーグル）傘下のFitbitが、スマートフォンアプリの刷新を発表。アプリは2023年の秋にリリース予定です。',\n",
       "  'url': 'https://www.gizmodo.jp/2023/08/google-fitbit-app-redesign.html',\n",
       "  'urlToImage': 'https://media.loom-app.com/gizmodo/dist/images/2023/08/02/google-fitbit-app-redesign-thumb.jpg?w=1280&h=630&f=jpg',\n",
       "  'publishedAt': '2023-08-03T03:00:00Z',\n",
       "  'content': 'GoogleFitbit2023\\r\\nFitbitAndroidiOS\\r\\nFitbitGoogle\\r\\nGoogleKeyword\\r\\nFitbitFitbit Premium3You\\r\\nFitbit\\r\\nUIGoogleFitbit\\r\\nFitbit\\r\\nKeyword\\r\\nFitbit3You\\r\\nStrava\\r\\nFitbit Premium\\r\\nFitbit Premium\\r\\nFitbitFitbit Pr… [+121 chars]'},\n",
       " {'source': {'id': None, 'name': 'Github.com'},\n",
       "  'author': 'TodePond',\n",
       "  'title': 'We are pleased to announce that DreamBerd has been renamed to C',\n",
       "  'description': 'perfect programming language. Contribute to TodePond/C development by creating an account on GitHub.',\n",
       "  'url': 'https://github.com/TodePond/C',\n",
       "  'urlToImage': 'https://opengraph.githubassets.com/4772de9c58846b988da1903c2628b63f542b5542275180ebbfc29daa56b427f9/TodePond/C',\n",
       "  'publishedAt': '2023-08-06T23:27:47Z',\n",
       "  'content': \"New! We are pleased to announce that DreamBerd has been renamed to C.\\r\\nC is a perfect programming language. These are its features!When you've finished reading through all the features, check out the… [+15933 chars]\"},\n",
       " {'source': {'id': None, 'name': 'Quicksprout.com'},\n",
       "  'author': 'Quick Sprout',\n",
       "  'title': '7 Tools for Generating Infinite Content Ideas for Your Blog',\n",
       "  'description': 'Blogging sucks. Okay that’s a bit extreme. In fact, there’s a lot that we enjoy about blogging—mainly connecting with you …\\n 7 Tools for Generating Infinite Content Ideas for Your Blog Read More »\\nThe post 7 Tools for Generating Infinite Content Ideas for You…',\n",
       "  'url': 'https://www.quicksprout.com/7-tools-for-generating-infinite-content-ideas-for-your-blog/',\n",
       "  'urlToImage': 'https://www.quicksprout.com/wp-content/uploads/2023/06/QS-Default-Featured-Image-1-218.webp',\n",
       "  'publishedAt': '2023-08-17T15:00:27Z',\n",
       "  'content': 'Blogging sucks.\\r\\nOkay thats a bit extreme. In fact, theres a lot that we enjoy about bloggingmainly connecting with you guys.\\r\\nBut what does suck is having to constantly come up with new ideas for bl… [+8416 chars]'},\n",
       " {'source': {'id': None, 'name': 'Quicksprout.com'},\n",
       "  'author': 'Lars Lofgren',\n",
       "  'title': 'Rank Higher and Drive Traffic with the Right Website Title',\n",
       "  'description': 'A website title tells an internet browser (like Chrome or Safari) what to display as the title link in search …\\n Rank Higher and Drive Traffic with the Right Website Title Read More »\\nThe post Rank Higher and Drive Traffic with the Right Website Title appeare…',\n",
       "  'url': 'https://www.quicksprout.com/website-title/',\n",
       "  'urlToImage': 'https://www.quicksprout.com/wp-content/uploads/2023/08/website-title_featured-image.jpg',\n",
       "  'publishedAt': '2023-08-01T22:00:00Z',\n",
       "  'content': 'A website title tells an internet browser (like Chrome or Safari) what to display as the title link in search results. \\r\\nThese are website titles:\\r\\nWebsite titles also appear in the tabs of most inte… [+13158 chars]'},\n",
       " {'source': {'id': None, 'name': 'Quicksprout.com'},\n",
       "  'author': 'Quick Sprout Editorial',\n",
       "  'title': '23 SEO Mistakes To Avoid in 2023',\n",
       "  'description': 'When you’re doing your site’s SEO, you have to be careful. The techniques that used to work will now get …\\n 23 SEO Mistakes To Avoid in 2023 Read More »\\nThe post 23 SEO Mistakes To Avoid in 2023 appeared first on .',\n",
       "  'url': 'https://www.quicksprout.com/seo-mistakes/',\n",
       "  'urlToImage': 'https://www.quicksprout.com/wp-content/uploads/2023/06/seo-mistakes_featured-image.webp',\n",
       "  'publishedAt': '2023-08-08T12:10:03Z',\n",
       "  'content': 'When youre doing your site’s SEO, you have to be careful.\\r\\nThe techniques that used to work will now get you penalized.\\r\\nThe techniques that used to be a waste of time are now indispensable.\\r\\nGiven t… [+30728 chars]'},\n",
       " {'source': {'id': None, 'name': 'ReadWrite'},\n",
       "  'author': 'Nate Nead',\n",
       "  'title': 'Sustaining an Organic Link Structure: Guide to SEO Success',\n",
       "  'description': 'The right natural link structure can make all the difference in SEO success. No longer is it just a matter […]\\nThe post Sustaining an Organic Link Structure: Guide to SEO Success appeared first on ReadWrite.',\n",
       "  'url': 'https://readwrite.com/organic-link-structure/',\n",
       "  'urlToImage': 'https://readwrite.com/wp-content/uploads/2022/05/link-building-tips-for-seo.jpg',\n",
       "  'publishedAt': '2023-08-22T20:49:24Z',\n",
       "  'content': 'The right natural link structure can make all the difference in SEO success. No longer is it just a matter of quantity; quality organic link building is what really counts. In order to get ahead, bus… [+8160 chars]'},\n",
       " {'source': {'id': None, 'name': 'ReadWrite'},\n",
       "  'author': 'Erik Emanuelli',\n",
       "  'title': '20 Real Ways to Make Money While Being at Home',\n",
       "  'description': 'Are you looking for ways to make money while staying at home? You are not alone! The pandemic has caused […]\\nThe post 20 Real Ways to Make Money While Being at Home appeared first on ReadWrite.',\n",
       "  'url': 'https://readwrite.com/20-real-ways-to-make-money-while-being-at-home/',\n",
       "  'urlToImage': 'https://readwrite.com/wp-content/uploads/2023/06/make-money-from-home.jpg',\n",
       "  'publishedAt': '2023-08-25T18:00:30Z',\n",
       "  'content': 'Are you looking for ways to make money while staying at home? You are not alone! The pandemic has caused many people to lose their jobs or have reduced income. Fortunately, there are plenty of option… [+7724 chars]'},\n",
       " {'source': {'id': None, 'name': 'Quicksprout.com'},\n",
       "  'author': 'Quick Sprout',\n",
       "  'title': 'A Step-by-Step Guide to Conducting a Content Audit',\n",
       "  'description': 'Is your content a mess? It might be high quality (it might not be), but that doesn’t mean that it’s …\\n A Step-by-Step Guide to Conducting a Content Audit Read More »\\nThe post A Step-by-Step Guide to Conducting a Content Audit appeared first on .',\n",
       "  'url': 'https://www.quicksprout.com/content-audit/',\n",
       "  'urlToImage': 'https://www.quicksprout.com/wp-content/uploads/2023/06/content-audit_featured-image.webp',\n",
       "  'publishedAt': '2023-08-06T15:00:00Z',\n",
       "  'content': 'Is your content a mess?\\r\\nIt might be high quality (it might not be), but that doesnt mean that its organized.\\r\\nIt also doesnt mean that youre producing all of the right kind of content that your read… [+11513 chars]'},\n",
       " {'source': {'id': None, 'name': 'Search Engine Journal'},\n",
       "  'author': 'Roger Montti',\n",
       "  'title': 'Google: Domain Name Is Never Going To Make Or Break Your SEO via @sejournal, @martinibuster',\n",
       "  'description': \"Google's John Mueller discusses domain names and SEO\\nThe post Google: Domain Name Is Never Going To Make Or Break Your SEO appeared first on Search Engine Journal.\",\n",
       "  'url': 'https://www.searchenginejournal.com/domain-name-make-or-break-seo/493815/',\n",
       "  'urlToImage': 'https://www.searchenginejournal.com/wp-content/uploads/2023/08/domain-names-seo-64d9ebd257a9b-sej.jpg',\n",
       "  'publishedAt': '2023-08-14T09:17:51Z',\n",
       "  'content': 'Google’s John Mueller participated in a lively discussion on Mastodon about domain names and SEO.\\r\\nHis discussion began as a post about whether a dash (-) in the domain name is recommended or not.\\r\\nT… [+4627 chars]'},\n",
       " {'source': {'id': None, 'name': 'Wwwhatsnew.com'},\n",
       "  'author': 'Juan Diego Polo',\n",
       "  'title': 'Cómo optimizar App Store Optimization (ASO) con Inteligencia Artificial',\n",
       "  'description': 'La tecnología avanza a pasos agigantados y, con ella, las herramientas que facilitan la vida de los desarrolladores y especialistas en marketing. Una de las más recientes es AI Keyword Generator by MobileAction, una solución que promete cambiar el panorama de…',\n",
       "  'url': 'https://wwwhatsnew.com/2023/08/14/como-optimizar-app-store-optimization-aso-con-inteligencia-artificial/',\n",
       "  'urlToImage': 'https://wwwhatsnew.com/wp-content/uploads/2023/08/palabras-clave.jpg',\n",
       "  'publishedAt': '2023-08-13T22:00:55Z',\n",
       "  'content': 'La tecnología avanza a pasos agigantados y, con ella, las herramientas que facilitan la vida de los desarrolladores y especialistas en marketing. Una de las más recientes es AI Keyword Generator by M… [+2148 chars]'},\n",
       " {'source': {'id': None, 'name': 'Bitecode.dev'},\n",
       "  'author': 'Bite Code!',\n",
       "  'title': 'Asyncio, twisted, tornado, gevent walk into a bar',\n",
       "  'description': '... they pay, they leave, they drink, they order.',\n",
       "  'url': 'https://www.bitecode.dev/p/asyncio-twisted-tornado-gevent-walk',\n",
       "  'urlToImage': 'https://substackcdn.com/image/fetch/w_1200,h_600,c_fill,f_jpg,q_auto:good,fl_progressive:steep,g_auto/https%3A%2F%2Fsubstack-post-media.s3.amazonaws.com%2Fpublic%2Fimages%2F1baea5b6-0bc4-4786-a28f-8aed68141169_948x948.png',\n",
       "  'publishedAt': '2023-08-22T17:56:52Z',\n",
       "  'content': 'Concurrency has a lot to do with sharing one resource, and Python has dedicated tools to deal with that depending on the resource you must share.\\r\\nIf you have to share one CPU while waiting on the ne… [+28970 chars]'},\n",
       " {'source': {'id': None, 'name': 'MakeUseOf'},\n",
       "  'author': 'Idowu Omisola',\n",
       "  'title': '11 MongoDB Queries and Operations You Must Know',\n",
       "  'description': 'Get a hang of MongoDB queries and operations with the help of this handy guide.',\n",
       "  'url': 'https://www.makeuseof.com/mongodb-queries-and-operations/',\n",
       "  'urlToImage': 'https://static1.makeuseofimages.com/wordpress/wp-content/uploads/2023/08/mongodb-queries-you-must-know.jpg',\n",
       "  'publishedAt': '2023-08-17T21:00:24Z',\n",
       "  'content': 'MongoDB is one of the most desired and admired NoSQL databases for professional development. Its flexibility, scalability, and ability to handle large volumes of data make it a top choice for modern … [+7506 chars]'},\n",
       " {'source': {'id': None, 'name': 'Search Engine Journal'},\n",
       "  'author': 'Kevin Rowe',\n",
       "  'title': '19 List Building Techniques For SaaS Link Building [With Templates] via @sejournal, @_kevinrowe',\n",
       "  'description': 'Link building for SaaS companies requires leveraging unique content resources and implementing strategic techniques. Discover 19 tried and tested list building techniques today.\\nThe post 19 List Building Techniques For SaaS Link Building [With Templates] appe…',\n",
       "  'url': 'https://www.searchenginejournal.com/saas-list-building-for-link-building/491077/',\n",
       "  'urlToImage': 'https://www.searchenginejournal.com/wp-content/uploads/2023/07/link-building-techniques-64ad57b0cc34c-sej.png',\n",
       "  'publishedAt': '2023-08-15T09:00:50Z',\n",
       "  'content': 'A SaaS company’s link building techniques are similar to other business types.\\r\\nStill, the list building methods are unique because of the type of content on publisher websites and the content resour… [+15840 chars]'},\n",
       " {'source': {'id': None, 'name': 'Quicksprout.com'},\n",
       "  'author': 'Quick Sprout',\n",
       "  'title': 'Does URL Structure Even Matter? A Data Driven Answer',\n",
       "  'description': 'URL structure has been debated within the SEO industry for years. From the number of subdirectories to the placement of …\\n Does URL Structure Even Matter? A Data Driven Answer Read More »\\nThe post Does URL Structure Even Matter? A Data Driven Answer appeared …',\n",
       "  'url': 'https://www.quicksprout.com/does-url-structure-even-matter-a-data-driven-answer/',\n",
       "  'urlToImage': 'https://www.quicksprout.com/wp-content/uploads/2023/06/QS-Default-Featured-Image-3-152.webp',\n",
       "  'publishedAt': '2023-08-24T15:00:00Z',\n",
       "  'content': 'URL structure has been debated within the SEO industry for years. From the number of subdirectories to the placement of keywords in URLs, SEOs have tried many optimization techniques to improve their… [+4705 chars]'},\n",
       " {'source': {'id': None, 'name': 'Boing Boing'},\n",
       "  'author': 'Mark Frauenfelder',\n",
       "  'title': 'Major brands pull ads after they appear next to pro-Nazi content on Twitter',\n",
       "  'description': 'X Corp. CEO Linda Yaccarino has been busy reassuring major brands that X/Twitter is a \"healthier and safer platform than it was a year ago.\" In a CNBC interview last week, she said advertisers are \"protected from the risk of being next to\" toxic content\\xa0and\\xa0\"…',\n",
       "  'url': 'https://boingboing.net/2023/08/17/major-brands-pull-ads-after-they-appear-next-to-pro-nazi-content-on-twitter.html',\n",
       "  'urlToImage': 'https://i0.wp.com/boingboing.net/wp-content/uploads/2023/08/yaccy.jpg?fit=1200%2C634&ssl=1',\n",
       "  'publishedAt': '2023-08-17T17:12:28Z',\n",
       "  'content': 'X Corp. CEO Linda Yaccarino has been busy reassuring major brands that X/Twitter is a \"healthier and safer platform than it was a year ago.\" In a CNBC interview last week, she said advertisers are \"p… [+3247 chars]'},\n",
       " {'source': {'id': None, 'name': 'MakeUseOf'},\n",
       "  'author': 'Sahil Kapoor',\n",
       "  'title': 'How to Deal With Duplicate Values in SQL',\n",
       "  'description': 'Dealing with duplicate values in SQL can be a cumbersome task. But fear not, this guide is here to ease your burden.',\n",
       "  'url': 'https://www.makeuseof.com/deal-with-duplicate-values-sql/',\n",
       "  'urlToImage': 'https://static1.makeuseofimages.com/wordpress/wp-content/uploads/2023/07/learn-to-deal-with-duplicates-in-sql.jpg',\n",
       "  'publishedAt': '2023-07-30T19:00:23Z',\n",
       "  'content': 'Data comes in all shapes and forms, but duplicate records are a prominent part of every data format. Whether dealing with web-based data or simply navigating through a truckload of sales data, your a… [+7869 chars]'},\n",
       " {'source': {'id': None, 'name': 'Search Engine Journal'},\n",
       "  'author': 'Adam Heitzman',\n",
       "  'title': 'Understanding Buyer Intent Keywords via @sejournal, @AdamHeitzman',\n",
       "  'description': 'Learn the different types of buyer intent keywords and get some tips on identifying terms that bring more conversions and sales to your business.\\nThe post Understanding Buyer Intent Keywords appeared first on Search Engine Journal.',\n",
       "  'url': 'https://www.searchenginejournal.com/buyer-intent-keywords/489758/',\n",
       "  'urlToImage': 'https://www.searchenginejournal.com/wp-content/uploads/2023/06/buyer-intent-6494420a66456-sej.png',\n",
       "  'publishedAt': '2023-08-03T08:15:31Z',\n",
       "  'content': 'We all know that strategic keyword targeting is central to successful SEO and paid search campaigns.\\r\\nThe more your site appears in search results for relevant queries, the more visitors it will attr… [+10756 chars]'},\n",
       " {'source': {'id': None, 'name': 'Search Engine Journal'},\n",
       "  'author': 'Brooke Osmundson',\n",
       "  'title': '5 Reasons Why Your PPC Leads Are Not Converting via @sejournal, @brookeosmundson',\n",
       "  'description': \"It's easy to blame PPC when leads aren't converting to customers. But there are many reasons outside of PPC that this problem exists.\\nThe post 5 Reasons Why Your PPC Leads Are Not Converting appeared first on Search Engine Journal.\",\n",
       "  'url': 'https://www.searchenginejournal.com/reasons-why-your-ppc-leads-are-not-converting/490811/',\n",
       "  'urlToImage': 'https://www.searchenginejournal.com/wp-content/uploads/2023/07/ppc-leads-64abd345934d1-sej.png',\n",
       "  'publishedAt': '2023-08-25T09:00:18Z',\n",
       "  'content': 'As a PPC manager, nothing feels better than an account running smoothly.\\r\\nCampaigns are\\xa0crushing their lead goal, even staying within their Cost Per Lead benchmark!\\r\\nThen out of nowhere, the fun stop… [+8705 chars]'},\n",
       " {'source': {'id': None, 'name': 'Moz.com'},\n",
       "  'author': 'Jon Earnshaw',\n",
       "  'title': 'Identifying, Fixing, and Preventing Cannibalization — Whiteboard Friday',\n",
       "  'description': 'In this Whiteboard Friday, Jon discusses how to identify, fix, and prevent cannibalization. He identifies three specific types of cannibalization: internal, international, and subdomain.',\n",
       "  'url': 'https://moz.com/blog/identify-fix-and-prevent-cannibalization-whiteboard-friday',\n",
       "  'urlToImage': None,\n",
       "  'publishedAt': '2023-08-18T07:00:00Z',\n",
       "  'content': 'In this Whiteboard Friday, Jon discusses how to identify, fix, and prevent cannibalization. He identifies three specific types of cannibalization: internal, international, and subdomain.\\r\\nClick on th… [+10108 chars]'},\n",
       " {'source': {'id': None, 'name': 'Adamj.eu'},\n",
       "  'author': None,\n",
       "  'title': 'Python Type Hints – *args and **kwargs',\n",
       "  'description': 'When I started writing type hints, I was a little confused about what to do with Python’s variable argument operators, * and ** (often called *args and **kwargs). Here’s what I figured out.',\n",
       "  'url': 'https://adamj.eu/tech/2021/05/11/python-type-hints-args-and-kwargs/',\n",
       "  'urlToImage': 'https://adamj.eu/tech/assets/2021-05-11-governor.jpg',\n",
       "  'publishedAt': '2023-08-27T13:11:18Z',\n",
       "  'content': '2021-05-11When I started writing type hints, I was a little confused about what to do with Pythons variable argument operators, * and ** (often called *args and **kwargs). Heres what I figured out.\\r\\n… [+2559 chars]'},\n",
       " {'source': {'id': None, 'name': 'Briansmith.org'},\n",
       "  'author': None,\n",
       "  'title': 'Rust Cryptography Should Be Written in Rust',\n",
       "  'description': 'Comments',\n",
       "  'url': 'https://briansmith.org/rust-cryptography-should-be-written-in-rust-01',\n",
       "  'urlToImage': 'https://briansmith.org/favicon.ico',\n",
       "  'publishedAt': '2023-08-26T15:23:08Z',\n",
       "  'content': 'Cryptography libraries for Rust should be written entirely in Rust.\\r\\nRust should be improved to provide the necessary building blocks that are\\r\\n needed to write cryptography code that is free from ti… [+2160 chars]'},\n",
       " {'source': {'id': None, 'name': 'Moz.com'},\n",
       "  'author': 'Meghan Pahinui',\n",
       "  'title': 'Unlocking the Future of Tomorrow: MozCon 2023 Day Two Recap',\n",
       "  'description': 'Catch up on the second and final day of MozCon 2023 in this day-two recap!',\n",
       "  'url': 'https://moz.com/blog/mozcon-2023-day-two-recap',\n",
       "  'urlToImage': None,\n",
       "  'publishedAt': '2023-08-09T18:00:00Z',\n",
       "  'content': 'Day two recap contributions written\\xa0by\\xa0Emilie Martin, Meghan Pahinui, Miriam Ellis, and Zach Edelstein.We’re back for more insights from day two, the final day of MozCon 2023! Day two brought more sp… [+22165 chars]'},\n",
       " {'source': {'id': None, 'name': 'Idownloadblog.com'},\n",
       "  'author': 'Christian Zibreg',\n",
       "  'title': 'iOS 17’s Photos lets you search for specific sounds in videos and live photos',\n",
       "  'description': \"Apple's Photos app on iOS 17 lets you use keyword search to find videos and live photos that have specific sounds in them, like a laughter.\",\n",
       "  'url': 'https://www.idownloadblog.com/2023/08/17/ios-17-photos-app-iphone-search-sounds-videos/',\n",
       "  'urlToImage': 'https://media.idownloadblog.com/wp-content/uploads/2023/08/Apple-iOS-17-Photos-App-Search-Sounds-in-Videos.jpg',\n",
       "  'publishedAt': '2023-08-17T18:30:13Z',\n",
       "  'content': 'Apple’s Photos app on iOS 17 lets you use the keyword search to find videos and live photos with specific sounds, such as laughing, crying and so on.\\r\\nI was sufficiently impressed by these examples |… [+3639 chars]'},\n",
       " {'source': {'id': None, 'name': 'Tinloof.com'},\n",
       "  'author': 'Omar Benseddik',\n",
       "  'title': 'The SEO scam: $62,000 later',\n",
       "  'description': \"Context\\n\\nLike many businesses operating online, we at Tinloof decided to explore SEO to attract more leads.\\n\\nSeeing the numerous SEO gurus on LinkedIn and Twitter, one might think it's worth a shot to try this approach, hoping to strike gold when search...\",\n",
       "  'url': 'https://tinloof.com/blog/the-seo-scam-62000-dollars-later',\n",
       "  'urlToImage': 'https://cdn.sanity.io/images/o5kh1pex/production/970200b76b86ef44fa25703da241cf547edf1fe6-1200x630.png?w=1230&fit=max&auto=format',\n",
       "  'publishedAt': '2023-08-08T06:58:50Z',\n",
       "  'content': \"Like many businesses operating online, we at Tinloof decided to explore SEO to attract more leads.\\r\\nSeeing the numerous SEO gurus on LinkedIn and Twitter, one might think it's worth a shot to try thi… [+8210 chars]\"},\n",
       " {'source': {'id': None, 'name': 'Yanko Design'},\n",
       "  'author': 'Ida Torres',\n",
       "  'title': 'This hand-cranked, AI-powered projector tells stories by perfectly merging analog with futuristic design',\n",
       "  'description': 'This hand-cranked, AI-powered projector tells stories by perfectly merging analog with futuristic designThere has been a lot of discussion about how artificial intelligence tools like ChatGPT, Midjourney, and other creative platforms will change the way we te…',\n",
       "  'url': 'https://www.yankodesign.com/2023/08/23/this-hand-cranked-ai-powered-projector-tells-stories-by-perfectly-merging-analog-with-futuristic-design/',\n",
       "  'urlToImage': 'https://www.yankodesign.com/images/design_news/2023/08/old-school-looking-projector-uses-ai-to-crank-out-stories/1.jpg',\n",
       "  'publishedAt': '2023-08-23T17:20:54Z',\n",
       "  'content': 'There has been a lot of discussion about how artificial intelligence tools like ChatGPT, Midjourney, and other creative platforms will change the way we tell stories. There is still a lot to be learn… [+1627 chars]'},\n",
       " {'source': {'id': None, 'name': 'Thedailywtf.com'},\n",
       "  'author': 'Remy Porter',\n",
       "  'title': 'CodeSOD: Error While you Wait',\n",
       "  'description': \"Structured exception handling is a powerful way to describe how your program reacts to error conditions. But it's not available in a language like C, and thus C programmers have come up with a variety of ways to propogate errors. Frequently, functions simply …\",\n",
       "  'url': 'https://thedailywtf.com/articles/error-while-you-wait',\n",
       "  'urlToImage': 'https://thedailywtf.com/images/remy/Remy203-300x300.png',\n",
       "  'publishedAt': '2023-08-03T06:30:00Z',\n",
       "  'content': \"Structured exception handling is a powerful way to describe how your program reacts to error conditions. But it's not available in a language like C, and thus C programmers have come up with a variet… [+976 chars]\"},\n",
       " {'source': {'id': None, 'name': 'Pybit.es'},\n",
       "  'author': '',\n",
       "  'title': 'PyBites: The Arbitrary (Keyword) Arguments (args and kwargs) don’t come “for free” in Python',\n",
       "  'description': 'Python allows you to use *args and **kwargs in function definitions to accept an arbitrary number of positional and keyword arguments, respectively.',\n",
       "  'url': 'https://pybit.es/articles/the-arbitrary-keyword-arguments-args-and-kwargs-dont-come-for-free-in-python/',\n",
       "  'urlToImage': 'https://pybit.es/wp-content/uploads/2023/08/1689933867086-1024x612.jpeg',\n",
       "  'publishedAt': '2023-08-09T11:26:06Z',\n",
       "  'content': 'Python allows you to use *args and **kwargs in function definitions to accept an arbitrary number of positional and keyword arguments, respectively.\\r\\nHere is a simple example:\\r\\nIn the above example, … [+3291 chars]'},\n",
       " {'source': {'id': None, 'name': 'ReadWrite'},\n",
       "  'author': 'Vikas Kaushik',\n",
       "  'title': 'Mobile App Localization: Best Practices and Tools',\n",
       "  'description': 'Mobile App Localization is a game-changer, folks. Yet when it’s time to globalize their app, many developers hit a wall. […]\\nThe post Mobile App Localization: Best Practices and Tools appeared first on ReadWrite.',\n",
       "  'url': 'https://readwrite.com/mobile-app-localization-best-practices-and-tools/',\n",
       "  'urlToImage': 'https://images.readwrite.com/wp-content/uploads/2023/07/Mobile-App-Localization.jpg',\n",
       "  'publishedAt': '2023-07-31T15:00:22Z',\n",
       "  'content': 'Mobile App Localization is a game-changer, folks. Yet when it’s time to globalize their app, many developers hit a wall. The challenge? Mobile App Localization.\\r\\nMost developers lack knowledge of how… [+15139 chars]'},\n",
       " {'source': {'id': None, 'name': 'Search Engine Journal'},\n",
       "  'author': 'Greg Jarboe',\n",
       "  'title': 'Disctopia And Semrush Launch Podcast Hosting App To Optimize Podcasts via @sejournal, @gregjarboe',\n",
       "  'description': 'Thanks to the collaboration between Disctopia and Semrush, podcasters can harness the power of the Podcast Hosting App to amplify their content.\\nThe post Disctopia And Semrush Launch Podcast Hosting App To Optimize Podcasts appeared first on Search Engine Jou…',\n",
       "  'url': 'https://www.searchenginejournal.com/disctopia-and-semrush-launch-podcast-hosting-app/494168/',\n",
       "  'urlToImage': 'https://www.searchenginejournal.com/wp-content/uploads/2023/08/disctopia-announces-new-partnership-with-semrush--64e3621b154c8-sej.png',\n",
       "  'publishedAt': '2023-08-23T13:00:00Z',\n",
       "  'content': 'Disctopia, a podcast hosting platform for independent creators, announced a partnership with Semrush to optimize podcast episodes with its Podcast Hosting App.\\r\\nThis new SEO feature enables keyword e… [+5010 chars]'},\n",
       " {'source': {'id': None, 'name': 'Search Engine Journal'},\n",
       "  'author': 'Annabelle Nyst',\n",
       "  'title': 'Content Creation In An AI World via @sejournal, @annabellenyst',\n",
       "  'description': 'Learn what the industry thinks about the impact of generative AI on content creation and how you can use it to your advantage. \\nThe post Content Creation In An AI World appeared first on Search Engine Journal.',\n",
       "  'url': 'https://www.searchenginejournal.com/content-creation-in-an-ai-world/493027/',\n",
       "  'urlToImage': 'https://www.searchenginejournal.com/wp-content/uploads/2023/08/featured-book-2-copy-64e759e2bb2ef-sej.jpg',\n",
       "  'publishedAt': '2023-08-28T09:00:58Z',\n",
       "  'content': 'We don’t have to tell you that the world of SEO is always evolving. You know that.\\r\\nWhile the overarching goal of SEO remains the same, year-over-year, the obstacles and challenges, best practices an… [+10956 chars]'},\n",
       " {'source': {'id': None, 'name': 'Iphoneblog.de'},\n",
       "  'author': 'Alex Olma',\n",
       "  'title': 'Tipp: „Keyword Search“ setzt beliebige Suchseiten/Suchmaschinen in Safari als Standard',\n",
       "  'description': 'Lange bekannt, aber aus aktuellem Anlass noch einmal mit expliziter Erwähnung: Keyword Search.\\n\\nWer am Desktop auf Arc setzt, findet dort die vergleichbaren „Site Search Settings“.',\n",
       "  'url': 'https://www.iphoneblog.de/2023/08/18/keyword-search-setzt-beliebige-suchseitensuchmaschinen-in-safari-als-standard/',\n",
       "  'urlToImage': 'https://www.iphoneblog.de/images/ipad-144.png',\n",
       "  'publishedAt': '2023-08-18T08:05:44Z',\n",
       "  'content': 'Langebekannt, aber aus aktuellem Anlass noch einmal mit expliziter Erwähnung: Keyword Search.\\r\\nWer am Desktop auf Arc setzt, findet dort die vergleichbaren Site Search Settings.'},\n",
       " {'source': {'id': None, 'name': 'Lighton.ai'},\n",
       "  'author': None,\n",
       "  'title': 'Alfred-40B, an OSS RLHF version of Falcon40B',\n",
       "  'description': 'The Open-Source Generative AI Copilot by LightOn',\n",
       "  'url': 'https://www.lighton.ai/blog/lighton-s-blog-4/introducing-alfred-40b-0723-38',\n",
       "  'urlToImage': 'https://www.lighton.ai/web/image/2019-f84649d2/Alfred40B.png',\n",
       "  'publishedAt': '2023-08-01T19:17:59Z',\n",
       "  'content': 'We are excited to announce the release of Alfred-40B-0723, a new open-source Language Model (LLM) based on Falcon-40B.\\xa0Alfred is an ongoing project, currently in its initial version, and we plan to i… [+2828 chars]'},\n",
       " {'source': {'id': None, 'name': 'Quicksprout.com'},\n",
       "  'author': 'Lars Lofgren',\n",
       "  'title': 'How to Build Traffic Through Forums',\n",
       "  'description': 'Forum marketing might be the most underutilized traffic generation strategy on the planet. Industry forums are a watering hole of …\\n How to Build Traffic Through Forums Read More »\\nThe post How to Build Traffic Through Forums appeared first on .',\n",
       "  'url': 'https://www.quicksprout.com/build-traffic-through-forums/',\n",
       "  'urlToImage': 'https://www.quicksprout.com/wp-content/uploads/2023/06/QS-Default-Featured-Image-1-296.webp',\n",
       "  'publishedAt': '2023-08-25T17:45:00Z',\n",
       "  'content': 'Forum marketing might be the most underutilized traffic generation strategy on the planet.\\r\\nIndustry forums are a watering hole of potential leads and customers.\\r\\nHowever, simply creating a signature… [+7311 chars]'},\n",
       " {'source': {'id': None, 'name': 'PC Gamer'},\n",
       "  'author': 'Phil Savage',\n",
       "  'title': \"Destiny 2's most overpowered ability is being nerfed because it was 'a skeleton key that solves combat problems against all combatant types'\",\n",
       "  'description': \"Strand's Suspend keyword will no longer be the solution to all of your problems.\",\n",
       "  'url': 'https://www.pcgamer.com/destiny-2s-most-overpowered-ability-is-being-nerfed-because-it-was-a-skeleton-key-that-solves-combat-problems-against-all-combatant-types/',\n",
       "  'urlToImage': 'https://cdn.mos.cms.futurecdn.net/Jhe2oe6aKcfvYM4DCiZGCB-1200-80.jpg',\n",
       "  'publishedAt': '2023-08-10T13:03:06Z',\n",
       "  'content': 'We knew it was coming—Bungie said it was coming—and now we know exactly what form it will take. Since the launch of Lightfall and its Strand subclass earlier this year, one of its abilities has stood… [+5503 chars]'},\n",
       " {'source': {'id': None, 'name': 'Semrush.com'},\n",
       "  'author': None,\n",
       "  'title': '12 Best PPC Tools for Research, Automation, and More',\n",
       "  'description': 'Discover the top PPC tools for keyword research, campaign management, automation, reporting, and more.',\n",
       "  'url': 'https://www.semrush.com/blog/ppc-tools/',\n",
       "  'urlToImage': 'https://static.semrush.com/blog/uploads/media/33/74/337416dde1ea23344383fe2a77e83d94/ppc-tools-sm.png',\n",
       "  'publishedAt': '2023-08-11T10:54:00Z',\n",
       "  'content': 'Pay-per-click (PPC) ads drive results quickly.\\r\\nBut you need the best pay-per-click tools to implement an effective strategy and achieve a high return.\\r\\nIn this guide, well discuss the best PPC tools… [+18486 chars]'},\n",
       " {'source': {'id': None, 'name': 'Grahamhelton.com'},\n",
       "  'author': None,\n",
       "  'title': 'An Excruciatingly Detailed Guide to SSH (But Only the Things I Find Useful)',\n",
       "  'description': 'Welcome We&amp;rsquo;ve all seen these great diagrams of how SSH port forwarding works but if your brain is anything like mine, these diagrams leave you with a lot of unanswered questions. If you&amp;rsquo;re on a red team, understanding how to traverse a net…',\n",
       "  'url': 'https://grahamhelton.com/blog/ssh-cheatsheet/',\n",
       "  'urlToImage': 'https://grahamhelton.com/ssh-cheatsheet-cover.png',\n",
       "  'publishedAt': '2023-08-23T18:27:15Z',\n",
       "  'content': 'Oh you like SSH? Name every flag. Welcome\\r\\nWe’ve all seen these great diagrams of how SSH port forwarding works but if your brain is anything like mine, these diagrams leave you with a lot of unanswe… [+17868 chars]'},\n",
       " {'source': {'id': None, 'name': 'Genbeta.com'},\n",
       "  'author': 'Marcos Merino',\n",
       "  'title': \"Olvídate de apagar el micrófono para que las apps no te espíen: esta patente permitirá que tu teléfono te 'oiga' por cómo te mueves\",\n",
       "  'description': 'Recientemente, supimos que a comienzos de este mismo año la Oficina de Patentes de Estados Unidos le había concedido a Apple una patente (PDF) titulada \"Keyworking detection using motion sensors\" (Detección de palabras clave utilizando sensores de movimiento)…',\n",
       "  'url': 'https://www.genbeta.com/seguridad/olvidate-apagar-microfono-apps-no-te-espien-esta-patente-permitira-que-tu-telefono-te-oiga-como-te-mueves',\n",
       "  'urlToImage': 'https://i.blogs.es/a315c5/teoigo/840_560.jpeg',\n",
       "  'publishedAt': '2023-08-08T19:50:53Z',\n",
       "  'content': 'Recientemente, supimos que a comienzos de este mismo año la Oficina de Patentes de Estados Unidos le había concedido a Apple una patente (PDF) titulada \"Keyworking detection using motion sensors\" (De… [+3160 chars]'},\n",
       " {'source': {'id': None, 'name': 'Android Police'},\n",
       "  'author': 'Manuel Vonau',\n",
       "  'title': 'Gboard wants to go all in on generative AI',\n",
       "  'description': 'Hidden flags within the app reveal AI proofreading and emoji creations as well as predictive back gestures',\n",
       "  'url': 'https://www.androidpolice.com/gboard-all-in-on-generative-ai/',\n",
       "  'urlToImage': 'https://static1.anpoimages.com/wordpress/wp-content/uploads/2022/02/gboard-grammar-hero.png',\n",
       "  'publishedAt': '2023-08-10T13:47:37Z',\n",
       "  'content': 'AI was the keyword at this year’s Google I/O developer conference, with Google showcasing how generative language models are changing some of its key products. It looks like the company is gearing up… [+3537 chars]'},\n",
       " {'source': {'id': None, 'name': 'Techdirt'},\n",
       "  'author': 'Gretchen Heckmann',\n",
       "  'title': 'Daily Deal: Podurama Premium Plan',\n",
       "  'description': 'Podurama is a leading podcast player with a collection of more than 30 million podcasts in every genre. The app makes it easy to organize your podcasts into folders or create multiple playlists of your favorite episodes. You can also take notes or bookmark wi…',\n",
       "  'url': 'https://www.techdirt.com/2023/08/24/daily-deal-podurama-premium-plan/',\n",
       "  'urlToImage': 'https://www.techdirt.com/wp-content/themes/techdirt/assets/images/td-rect-logo-white.png',\n",
       "  'publishedAt': '2023-08-24T17:45:41Z',\n",
       "  'content': 'from the good-deals-on-cool-stuff dept\\r\\nPodurama is a leading podcast player with a collection of more than 30 million podcasts in every genre. The app makes it easy to organize your podcasts into fo… [+761 chars]'},\n",
       " {'source': {'id': None, 'name': 'Search Engine Journal'},\n",
       "  'author': 'Brooke Osmundson',\n",
       "  'title': '5 Best Google Ads Alternatives To Diversify & Grow via @sejournal, @brookeosmundson',\n",
       "  'description': 'Diversifying your ad platform strategy is crucial for growth. Read on to discover top alternative platforms to Google Ads.\\nThe post 5 Best Google Ads Alternatives To Diversify & Grow appeared first on Search Engine Journal.',\n",
       "  'url': 'https://www.searchenginejournal.com/google-ads-alternatives/489935/',\n",
       "  'urlToImage': 'https://www.searchenginejournal.com/wp-content/uploads/2023/06/google-ads-alternatives-649c1521a9a64-sej.png',\n",
       "  'publishedAt': '2023-08-17T09:00:37Z',\n",
       "  'content': 'It’s no secret the\\xa0Google Ads platform has long dominated the online advertising marketing share.\\r\\nGoogle’s network is one of the best places for brands to get their products or services in front of … [+9897 chars]'},\n",
       " {'source': {'id': None, 'name': 'Digital Trends'},\n",
       "  'author': 'Nadeem Sarwar',\n",
       "  'title': 'Have a Samsung phone? This is the one app you have to download',\n",
       "  'description': \"Samsung phones are great out of the box, but there's one app you can download to unlock a load of hidden features.\",\n",
       "  'url': 'https://www.digitaltrends.com/mobile/samsung-phone-one-app-you-have-to-download-good-lock-why/',\n",
       "  'urlToImage': 'https://www.digitaltrends.com/wp-content/uploads/2023/08/samsung-goodlock-title.jpg?resize=1200%2C630&p=1',\n",
       "  'publishedAt': '2023-08-22T18:30:31Z',\n",
       "  'content': 'The main page of the Samsung Good Lock appNadeem Sarwar / Digital Trends\\r\\nSamsung’s One UI is a mine of hidden features, especially for users that are deep into customizing every aspect of their phon… [+11791 chars]'},\n",
       " {'source': {'id': None, 'name': 'Quicksprout.com'},\n",
       "  'author': 'Quick Sprout Editorial',\n",
       "  'title': 'Grey Hat Link Building Guide',\n",
       "  'description': 'No guide to link building would be complete without at least touching on a few grey hat strategies. And while …\\n Grey Hat Link Building Guide Read More »\\nThe post Grey Hat Link Building Guide appeared first on .',\n",
       "  'url': 'https://www.quicksprout.com/grey-hat-link-building/',\n",
       "  'urlToImage': 'https://www.quicksprout.com/wp-content/uploads/2023/06/QS-Default-Featured-Image-4-290.webp',\n",
       "  'publishedAt': '2023-08-28T16:50:00Z',\n",
       "  'content': 'No guide to link building would be complete without at least touching on a few grey hat strategies. And while some these stretch the limits of Google’s TOS (or outright violate them) you may have the… [+6488 chars]'},\n",
       " {'source': {'id': None, 'name': 'Quicksprout.com'},\n",
       "  'author': 'Quick Sprout',\n",
       "  'title': 'How to Optimize Images for Better Search Engine Rankings',\n",
       "  'description': 'You are already optimizing your site for search engines, right? But we bet you aren’t optimizing your images for search …\\n How to Optimize Images for Better Search Engine Rankings Read More »\\nThe post How to Optimize Images for Better Search Engine Rankings a…',\n",
       "  'url': 'https://www.quicksprout.com/the-advance-guide-to-seo-for-images/',\n",
       "  'urlToImage': 'https://www.quicksprout.com/wp-content/uploads/2023/06/the-advance-guide-to-seo-for-images_featured-image.webp',\n",
       "  'publishedAt': '2023-08-16T15:00:00Z',\n",
       "  'content': 'You are already optimizing your site for search engines, right? But we bet you aren’t optimizing your images for search traffic!\\r\\nWe know, Google image search only gets around 10% of Google’s overall… [+6314 chars]'},\n",
       " {'source': {'id': None, 'name': 'Small Business Trends'},\n",
       "  'author': 'Lisa Price',\n",
       "  'title': 'How to Make Money on Rumble',\n",
       "  'description': 'If you want to know how to make money on Rumble, this article explains what it is, how it works, and how you can get started on the platform.',\n",
       "  'url': 'https://smallbiztrends.com/2023/08/how-to-make-money-on-rumble.html',\n",
       "  'urlToImage': 'https://media.smallbiztrends.com/2023/08/how-to-make-money-on-rumble.png',\n",
       "  'publishedAt': '2023-08-25T15:00:39Z',\n",
       "  'content': 'People are making money posting videos on Rumble. And you can do the same with the right knowledge and preparation.\\r\\nIf you want to learn how to make money on Rumble, read on. In this post, well expl… [+24032 chars]'},\n",
       " {'source': {'id': None, 'name': 'Hootsuite.com'},\n",
       "  'author': 'Colleen Christison',\n",
       "  'title': 'Experiment: Do Traditional SEO Tactics Work on Social Media?',\n",
       "  'description': 'Social SEO is like the new kid that just transferred to your high school. Who are they? What can they…\\nThe post Experiment: Do Traditional SEO Tactics Work on Social Media? appeared first on Social Media Marketing & Management Dashboard.',\n",
       "  'url': 'https://blog.hootsuite.com/experiment-social-seo/',\n",
       "  'urlToImage': 'https://blog.hootsuite.com/wp-content/uploads/2023/08/experiment-social-SEO.png',\n",
       "  'publishedAt': '2023-08-22T23:37:33Z',\n",
       "  'content': 'Social SEO is like the new kid that just transferred to your high school. Who are they? What can they do to make me more popular? What can I say to get them to pay attention to me? Do they have a cru… [+15565 chars]'},\n",
       " {'source': {'id': None, 'name': 'Yahoo Entertainment'},\n",
       "  'author': 'Brian Sozzi',\n",
       "  'title': \"Here's what could trip up Nvidia stock...and a bunch of other big companies\",\n",
       "  'description': \"It pays off to do a keyword search on China inside of Nvidia's latest earnings call.\",\n",
       "  'url': 'https://finance.yahoo.com/news/heres-what-could-trip-up-nvidia-stockand-a-bunch-of-other-big-companies-100057178.html',\n",
       "  'urlToImage': 'https://s.yimg.com/ny/api/res/1.2/A_atKO0gVKqMXQ25TLnqiA--/YXBwaWQ9aGlnaGxhbmRlcjt3PTEyMDA7aD03OTg-/https://s.yimg.com/os/creatr-uploaded-images/2023-08/2e9f0840-40fa-11ee-bb4f-fe30d8b01830',\n",
       "  'publishedAt': '2023-08-28T10:00:57Z',\n",
       "  'content': \"If there is anything that could dent the bull thesis on Nvidia within the next 18 to 24 months it's China.\\r\\nLost in the enthusiasm for Nvidia's big quarter and outlook was a not-so-subtle China warni… [+3897 chars]\"},\n",
       " {'source': {'id': None, 'name': 'Search Engine Journal'},\n",
       "  'author': 'Kristi Hines',\n",
       "  'title': 'Custom Instructions Included In Recent ChatGPT iOS App Update via @sejournal, @kristileilani',\n",
       "  'description': 'The latest update to the ChatGPT app for iOS includes Custom Instructions, which allows Plus users to enter personalized directions for better responses.\\nThe post Custom Instructions Included In Recent ChatGPT iOS App Update appeared first on Search Engine Jo…',\n",
       "  'url': 'https://www.searchenginejournal.com/custom-instructions-included-recent-chatgpt-ios-app-update/493445/',\n",
       "  'urlToImage': 'https://www.searchenginejournal.com/wp-content/uploads/2023/08/chatgpt-app-adds-custom-instructions-for-ios-users-64d161c0c61b6-sej.jpg',\n",
       "  'publishedAt': '2023-08-07T21:48:58Z',\n",
       "  'content': 'OpenAI recently updated its official ChatGPT app, expanding access to Custom Instructions to iOS devices.\\r\\nAnnounced in July, the feature allows users to better control ChatGPT’s responses by setting… [+2763 chars]'},\n",
       " {'source': {'id': None, 'name': 'Search Engine Journal'},\n",
       "  'author': 'Kristi Hines',\n",
       "  'title': 'Google AdsLiaison On Performance Max Brand Safety Controls via @sejournal, @kristileilani',\n",
       "  'description': 'Have a question about Google Performance Max brand safety controls? Google AdsLiaison offered clarification about the options available for advertisers to protect brand reputation.\\nThe post Google AdsLiaison On Performance Max Brand Safety Controls appeared f…',\n",
       "  'url': 'https://www.searchenginejournal.com/google-adsliaison-performance-max-brand-safety-controls/494305/',\n",
       "  'urlToImage': 'https://www.searchenginejournal.com/wp-content/uploads/2023/08/google-performance-max-controls-clarified-64e3c321e08d2-sej.jpg',\n",
       "  'publishedAt': '2023-08-21T20:18:48Z',\n",
       "  'content': 'In a proactive move to clarify misunderstandings around brand safety controls and reporting in Performance Max, Google’s AdsLiaison took to X to provide a comprehensive breakdown of settings availabl… [+2795 chars]'},\n",
       " {'source': {'id': None, 'name': 'Livedoor.biz'},\n",
       "  'author': 'pikotin',\n",
       "  'title': '【画像】弱者女性の王子様「羽生結弦」の結婚にショックを受けた弱女のグッズの放出が止まらないw w w',\n",
       "  'description': '1: 名無し  2023/08/06(日) 14:28:20.16 ID:7k6GqaIj0  滝沢ガレソ  ＠  【続報】メルカリの羽生結弦グッズ出品ラッシュが止まらない\\u3000結婚発表でユヅリストおばさん発狂か  jp.mercari.com/search?keyword…                  引用元：https://nova.5ch.net/test/read.cgi/l',\n",
       "  'url': 'http://news4vip.livedoor.biz/archives/52499484.html',\n",
       "  'urlToImage': 'https://livedoor.blogimg.jp/news4vip2/imgs/3/1/31f000ca-s.png',\n",
       "  'publishedAt': '2023-08-07T13:00:41Z',\n",
       "  'content': '1: 2023/08/06() 14:28:20.16 ID:7k6GqaIj0\\r\\njp.mercari.com/search?keyword \\r\\nhttps://nova.5ch.net/test/read.cgi/livegalileo/1691299700/'},\n",
       " {'source': {'id': None, 'name': 'Smashingmagazine.com'},\n",
       "  'author': 'hello@smashingmagazine.com (Mike Herchel)',\n",
       "  'title': 'Modern Methods For Improving Drupal’s Largest Contentful Paint Core Web Vital',\n",
       "  'description': 'The background image used in the hero component, which is slow to load, is a very common problem with any component that uses a large image file as a background image. In this article, Mike Herchel walks you through how to tackle this common performance issue…',\n",
       "  'url': 'https://www.smashingmagazine.com/2023/08/methods-improving-drupal-largest-contentful-paint-core-web-vital/',\n",
       "  'urlToImage': 'https://files.smashing.media/articles/methods-improving-drupal-largest-contentful-paint-core-web-vital/methods-improving-drupal-largest-contentful-paint-core-web-vital.jpg',\n",
       "  'publishedAt': '2023-08-15T10:00:00Z',\n",
       "  'content': 'Lets start with a fairly common example of a hero component on the homepage of Drupals demo installation of the Umami theme.\\r\\nThe image in this hero component is loaded by CSS via the background-imag… [+10145 chars]'},\n",
       " {'source': {'id': None, 'name': 'AppleInsider'},\n",
       "  'author': 'news@appleinsider.com (William Gallagher)',\n",
       "  'title': 'Apple is teaching Siri how to read lips',\n",
       "  'description': \"Future Apple devices may be able to use motion detection to read lips, and so trigger Siri without needing a microphone to constantly listen out for commands.HAL 9000 background source: Warner BrosIf you're old enough, the notion of Siri being able to read li…\",\n",
       "  'url': 'https://appleinsider.com/articles/23/08/03/apple-is-teaching-siri-how-to-read-lips',\n",
       "  'urlToImage': 'https://photos5.appleinsider.com/gallery/55728-113220-000-lead-HAL-Siri-xl.jpg',\n",
       "  'publishedAt': '2023-08-03T11:52:30Z',\n",
       "  'content': 'HAL 9000 background source: Warner Bros\\r\\nFuture Apple devices may be able to use motion detection to read lips, and so trigger Siri without needing a microphone to constantly listen out for commands.… [+3214 chars]'},\n",
       " {'source': {'id': 'fox-news', 'name': 'Fox News'},\n",
       "  'author': 'Kurt Knutsson, CyberGuy Report',\n",
       "  'title': 'Ask Kurt: Websites may try to hide their past, but these tools uncover what others may not want you to see',\n",
       "  'description': 'Websites like The Wayback Machine and The Memento Project allow users to fly back in time and take a peek at what our most-used websites once looked like.',\n",
       "  'url': 'https://www.foxnews.com/tech/ask-kurt-websites-may-try-hide-their-past-these-tools-uncover-what-others-may-not-want-you-see',\n",
       "  'urlToImage': 'https://static.foxnews.com/foxnews.com/content/uploads/2023/07/1-YAHOO.jpg',\n",
       "  'publishedAt': '2023-07-31T15:10:39Z',\n",
       "  'content': \"Tools you may have never known exist will uncover the past of websites that some may try to bury. \\xa0\\xa0\\r\\nEver wondered what the first-generation websites of today's biggest companies looked like?\\xa0\\r\\nWe r… [+4523 chars]\"},\n",
       " {'source': {'id': None, 'name': 'Markezine.jp'},\n",
       "  'author': None,\n",
       "  'title': '日本人の7割が生成AIのコンテンツを信頼／AIが薦める商品購入に6割が前向き【キャップジェミニ調査】',\n",
       "  'description': 'AI事業を手掛けるキャップジェミニの社内シンクタンク「キャップジェミニ・リサーチ・インスティテュート」は、生成AIに関する消費者の意識についてソーシャル分析と検索分析を実施。調査レポートを公開した。 ...',\n",
       "  'url': 'https://markezine.jp/article/detail/42905',\n",
       "  'urlToImage': 'https://markezine.jp/static/images/article/42905/42905_fb.png',\n",
       "  'publishedAt': '2023-08-21T22:15:00Z',\n",
       "  'content': 'AIAI\\r\\nAI\\r\\n1351AIAIAIAI3266\\r\\n49AI3433AI27\\r\\n72AI\\r\\nAI4370AI64AI\\r\\nAI5772AI63AI66AI\\r\\n13181202242023320221020234Google Keyword PlannerTalkwalker\\r\\nAI179AIFABRIC TOKYOAIAIAIAIMetaLlama 2AI'},\n",
       " {'source': {'id': None, 'name': 'Quicksprout.com'},\n",
       "  'author': 'Quick Sprout',\n",
       "  'title': 'How to Optimize Your Business For Local Search and Social Marketing',\n",
       "  'description': 'If you have a local business or one that targets audiences in a specific geo-location, then you will want to …\\n How to Optimize Your Business For Local Search and Social Marketing Read More »\\nThe post How to Optimize Your Business For Local Search and Social …',\n",
       "  'url': 'https://www.quicksprout.com/local-seo/',\n",
       "  'urlToImage': 'https://www.quicksprout.com/wp-content/uploads/2023/06/local-seo_featured-image.webp',\n",
       "  'publishedAt': '2023-08-07T14:00:00Z',\n",
       "  'content': 'If you have a local business or one that targets audiences in a specific geo-location, then you will want to move beyond general guides for search and social optimization. This post will take you thr… [+26115 chars]'},\n",
       " {'source': {'id': None, 'name': 'Korban.net'},\n",
       "  'author': None,\n",
       "  'title': 'Thoughts on Elixir, Phoenix and LiveView after 18 months of commercial use',\n",
       "  'description': 'Comments',\n",
       "  'url': 'https://korban.net/posts/2023-08-11-thoughts-on-elixir-phoenix-liveview/',\n",
       "  'urlToImage': None,\n",
       "  'publishedAt': '2023-08-13T21:03:53Z',\n",
       "  'content': 'Ive been leading a team developing an application using Elixir, Phoenix and LiveView for the last 18 months and accumulated some thoughts on the stack. For the most part, it has been a very pleasant … [+8477 chars]'},\n",
       " {'source': {'id': None, 'name': 'Hubspot.com'},\n",
       "  'author': 'Caroline Forsey',\n",
       "  'title': '13 YouTube Description Templates That Have Helped Our Videos Go Viral',\n",
       "  'description': 'As the second-largest search engine, with over 2 billion users per month, YouTube is an undeniably important channel for your marketing efforts. Knowing how to optimize your YouTube channel can help you increase your chances of discoverability and reach more …',\n",
       "  'url': 'https://blog.hubspot.com/marketing/youtube-description-template-vb#article',\n",
       "  'urlToImage': 'https://blog.hubspot.com/hubfs/youtube-description-template_8.webp#keepProtocol',\n",
       "  'publishedAt': '2023-08-21T19:56:05Z',\n",
       "  'content': 'As the second-largest search engine, with over 2 billion users per month, YouTube is an undeniably important channel for your marketing efforts. Knowing how to optimize your YouTube channel can help … [+30243 chars]'},\n",
       " {'source': {'id': None, 'name': 'Search Engine Journal'},\n",
       "  'author': 'Adriana Stein',\n",
       "  'title': 'How To Scale Your B2B Google Ads Strategy Across Multiple Languages And Regions via @sejournal, @adrianakstein',\n",
       "  'description': 'Expand your B2B business into international markets with Google Ads and and focus on holistically localizing your strategy with this step by step guide.\\nThe post How To Scale Your B2B Google Ads Strategy Across Multiple Languages And Regions appeared first on…',\n",
       "  'url': 'https://www.searchenginejournal.com/multilingual-b2b-google-ads-strategy/491444/',\n",
       "  'urlToImage': 'https://www.searchenginejournal.com/wp-content/uploads/2023/07/b2b-google-ads-strategy-64b5264e33b2d-sej.png',\n",
       "  'publishedAt': '2023-08-24T08:15:51Z',\n",
       "  'content': 'Humans are incredibly diverse – and it’s marketing’s job to respect, engage, and nurture that.\\r\\nExpanding a B2B business from English-only strategies to regional, multi-language campaigns can absolut… [+13400 chars]'},\n",
       " {'source': {'id': None, 'name': 'XDA Developers'},\n",
       "  'author': 'Timi Cantisano',\n",
       "  'title': 'Google Search update brings revamped UI, personal info removal tool enhancements, and more',\n",
       "  'description': 'Google is now making it easier than ever to remove personal and private information from its search results.',\n",
       "  'url': 'https://www.xda-developers.com/google-search-revamped-ui-new-features/',\n",
       "  'urlToImage': 'https://static1.xdaimages.com/wordpress/wp-content/uploads/2020/05/google-search.jpg',\n",
       "  'publishedAt': '2023-08-03T21:04:25Z',\n",
       "  'content': 'Key Takeaways\\r\\n<ul><li> Google Search is expanding its tool to remove personal information found within search results, and will now automatically alert users to new personal information that appears… [+2427 chars]'},\n",
       " {'source': {'id': None, 'name': 'Hubspot.com'},\n",
       "  'author': 'Erin Rodrigue',\n",
       "  'title': 'Can AI-Generated Content Hurt Your Search Ranking? [Insights from HubSpot, Litmus, Casted & 500+ Marketers]',\n",
       "  'description': 'AI is giving marketers a newer, faster, and easier way to create content. But will the convenience of AI come at the expense of your search ranking? \\nAfter all, if everyone can use AI to create high-quality content at lightning-fast speeds, what will be the g…',\n",
       "  'url': 'https://blog.hubspot.com/marketing/ai-generated-content-seo#article',\n",
       "  'urlToImage': 'https://blog.hubspot.com/hubfs/AI%20Content%20SEO%20FI.png#keepProtocol',\n",
       "  'publishedAt': '2023-08-07T11:00:00Z',\n",
       "  'content': 'AI is giving marketers a newer, faster, and easier way to create content. But will the convenience of AI come at the expense of your search ranking?\\r\\nAfter all, if everyone can use AI to create high-… [+5486 chars]'},\n",
       " {'source': {'id': None, 'name': 'Osxdaily.com'},\n",
       "  'author': 'Jamie Cuevas',\n",
       "  'title': 'How to Stop Photos from Showing in Spotlight Search on iPhone & iPad',\n",
       "  'description': 'If you have ever been using Spotlight to search for stuff on your iPhone or iPad, and found a situation where photos are showing up in search, and you’d rather them not at all, then you can make a settings change to make sure this does not happen. Whether you…',\n",
       "  'url': 'https://osxdaily.com/2023/08/04/how-to-stop-photos-from-showing-in-spotlight-search-on-iphone-ipad/',\n",
       "  'urlToImage': 'https://cdn.osxdaily.com/wp-content/uploads/2023/08/stop-photos-showing-spotlight-search-iphone-ipad.jpeg',\n",
       "  'publishedAt': '2023-08-04T16:51:43Z',\n",
       "  'content': 'If you have ever been using Spotlight to search for stuff on your iPhone or iPad, and found a situation where photos are showing up in search, and you’d rather them not at all, then you can make a se… [+1415 chars]'},\n",
       " {'source': {'id': None, 'name': 'iphone-ticker.de › iPhone-News seit 2007'},\n",
       "  'author': 'Nicolas',\n",
       "  'title': 'App-Updates: Toolbox kostenlos, Lens Buddy 17, Keyword Search, Postbank und Apple Pay',\n",
       "  'description': 'Zum Wochenauftakt bietet der App Store mehrere App-Aktualisierungen, zu denen unter anderm die Safari-Erweiterung Keyword Search gehört. Eine Sucherweiterung, die die Erstellung beliebiger Suchvorlagen ermöglicht Inzwischen lässt sich Keyword Search auch auf …',\n",
       "  'url': 'https://www.iphone-ticker.de/app-updates-toolbox-kostenlos-lens-buddy-17-keyword-search-postbank-und-apple-pay-218970/',\n",
       "  'urlToImage': 'https://images.iphone-ticker.de/wp-content/uploads/2023/08/app-updates-iphone.jpg',\n",
       "  'publishedAt': '2023-08-14T10:56:23Z',\n",
       "  'content': 'Zum Wochenauftakt bietet der App Store mehrere App-Aktualisierungen, zu denen unter anderm die Safari-Erweiterung Keyword Search gehört. Eine Sucherweiterung, die die Erstellung beliebiger Suchvorlag… [+1736 chars]'},\n",
       " {'source': {'id': None, 'name': 'MakeUseOf'},\n",
       "  'author': 'Ruby Helyer',\n",
       "  'title': '8 AI Tools Content Writers Can Use to Improve Their Workflow',\n",
       "  'description': 'Artificial intelligence (AI) can help writers enhance their workflow, and here are some top tools to assist you.',\n",
       "  'url': 'https://www.makeuseof.com/ai-tools-for-content-writers/',\n",
       "  'urlToImage': 'https://static1.makeuseofimages.com/wordpress/wp-content/uploads/2023/08/content-writer-tools.jpg',\n",
       "  'publishedAt': '2023-08-08T20:00:24Z',\n",
       "  'content': \"Most content writers are discouraged from using artificial intelligence (AI) in their writing, but AI tools can still be helpful in a content writer's workflow. Whether they’re used for idea generati… [+6987 chars]\"},\n",
       " {'source': {'id': None, 'name': 'Digital Trends'},\n",
       "  'author': 'Tomas Franzese',\n",
       "  'title': 'Microsoft gives Activision Blizzard cloud gaming rights to Ubisoft',\n",
       "  'description': 'Microsoft will give cloud streaming rights for Activision Blizzard games to Ubisoft in order to placate regulators wary of the acquisition.',\n",
       "  'url': 'https://www.digitaltrends.com/gaming/microsoft-gives-up-activision-blizzard-cloud-gaming/',\n",
       "  'urlToImage': 'https://www.digitaltrends.com/wp-content/uploads/2021/04/xcloud.jpg?resize=1200%2C630&p=1',\n",
       "  'publishedAt': '2023-08-22T14:26:38Z',\n",
       "  'content': 'The United Kingdoms Competition and Markets Authority (CMA) delivered a shocker this week when it blocked Microsofts acquisition of Activision Blizzard on Wednesday. While a lot of focus on Microsoft… [+5030 chars]'},\n",
       " {'source': {'id': None, 'name': 'Quicksprout.com'},\n",
       "  'author': 'Quick Sprout',\n",
       "  'title': 'How to Monitor Your Competitors With These 11 Helpful Tools',\n",
       "  'description': 'Your business doesn’t operate in a vacuum. There are countless outside factors that influence whether or not you’ll turn a …\\n How to Monitor Your Competitors With These 11 Helpful Tools Read More »\\nThe post How to Monitor Your Competitors With These 11 Helpfu…',\n",
       "  'url': 'https://www.quicksprout.com/how-to-monitor-your-competitors-with-these-10-helpful-tools/',\n",
       "  'urlToImage': 'https://www.quicksprout.com/wp-content/uploads/2018/05/prisync.png',\n",
       "  'publishedAt': '2023-08-11T15:00:00Z',\n",
       "  'content': 'Your business doesnt operate in a vacuum.\\r\\nThere are countless outside factors that influence whether or not youll turn a profit. On such factor being that your competition plays a huge role in the s… [+13221 chars]'},\n",
       " {'source': {'id': None, 'name': 'Phrack.org'},\n",
       "  'author': None,\n",
       "  'title': 'Phrack Magazine',\n",
       "  'description': 'Phrack staff website.',\n",
       "  'url': 'http://phrack.org/',\n",
       "  'urlToImage': None,\n",
       "  'publishedAt': '2023-08-27T16:56:44Z',\n",
       "  'content': \"==Phrack Magazine==\\r\\n ___________________\\r\\nC F P\\r\\nP H R A C K 7 1\\r\\n___________________\\r\\nDear readers, let's take a moment for poetry:\\r\\n// Based on Ulysses\\r\\n// Alfred Lord Tennyson - 1809-1892\\r\\n// pat… [+8009 chars]\"},\n",
       " {'source': {'id': None, 'name': 'Github.com'},\n",
       "  'author': 'reflex-dev',\n",
       "  'title': 'Reflex – Web apps in pure Python',\n",
       "  'description': ' Web apps in pure Python . Contribute to reflex-dev/reflex development by creating an account on GitHub.',\n",
       "  'url': 'https://github.com/reflex-dev/reflex',\n",
       "  'urlToImage': 'https://repository-images.githubusercontent.com/557075997/1e6cdae1-92d5-4d10-8a21-f6c61f86113f',\n",
       "  'publishedAt': '2023-08-02T15:40:04Z',\n",
       "  'content': '+ Searching for Pynecone? You are in the right repo. Pynecone has been renamed to Reflex. +\\r\\nInstallation\\r\\nOpen a terminal and run (Requires Python 3.7+):\\r\\nCreate your first app\\r\\nInstalling reflex al… [+5287 chars]'},\n",
       " {'source': {'id': None, 'name': 'Mitmproxy.org'},\n",
       "  'author': None,\n",
       "  'title': 'Mitmproxy 10: First Bits of HTTP/3',\n",
       "  'description': 'Comments',\n",
       "  'url': 'https://mitmproxy.org/posts/releases/mitmproxy10/',\n",
       "  'urlToImage': None,\n",
       "  'publishedAt': '2023-08-04T12:42:29Z',\n",
       "  'content': 'We are happy to announce the release of mitmproxy 10, a free and open source interactive HTTPS proxy.\\r\\nThis release introduces experimental support for QUIC and HTTP/3 reverse proxies,\\r\\nsetting the s… [+6243 chars]'},\n",
       " {'source': {'id': None, 'name': 'Brown.edu'},\n",
       "  'author': '',\n",
       "  'title': 'How to Search on Encrypted Data (2013)',\n",
       "  'description': 'Comments',\n",
       "  'url': 'https://esl.cs.brown.edu/blog/how-to-search-on-encrypted-data-introduction-part-1/',\n",
       "  'urlToImage': None,\n",
       "  'publishedAt': '2023-08-26T12:28:18Z',\n",
       "  'content': '6/Oct2013This is the first part of a series on searching on encrypted data.\\r\\nSee parts\\r\\n2,\\r\\n3,\\r\\n4,\\r\\n5.\\r\\nI recently finished giving a series of talks on one of my favorite topics:\\r\\nsearching on encryp… [+4112 chars]'},\n",
       " {'source': {'id': None, 'name': 'Noupe.com'},\n",
       "  'author': 'Alexey Chychyrko',\n",
       "  'title': 'How to Launch Your First PPC Campaign: A Beginner’s Guide',\n",
       "  'description': 'Skyrocketing eCommerce sales and traffic may seem challenging. But there’s a strategy that can help: Pay-Per-Click (PPC) advertising. PPC campaigns don’t just increase your online visibility—they are designed to convert. They position your business strategica…',\n",
       "  'url': 'https://www.noupe.com/business-online/how-to-launch-your-first-ppc-campaign-a-beginners-guide.html',\n",
       "  'urlToImage': 'https://www.noupe.com/wp-content/uploads/2023/08/kedi.png',\n",
       "  'publishedAt': '2023-08-07T11:45:34Z',\n",
       "  'content': \"Skyrocketing eCommerce sales and traffic may seem challenging. But there's a strategy that can help: Pay-Per-Click (PPC) advertising.\\r\\nPPC campaigns don't just increase your online visibilitythey are… [+14060 chars]\"},\n",
       " {'source': {'id': None, 'name': 'Quicksprout.com'},\n",
       "  'author': 'Quick Sprout',\n",
       "  'title': 'How to Gain More Branded Search Volume to Your Website',\n",
       "  'description': '“If people like you they will listen to you, but if they trust you, they’ll do business with you.“ ~ …\\n How to Gain More Branded Search Volume to Your Website Read More »\\nThe post How to Gain More Branded Search Volume to Your Website appeared first on .',\n",
       "  'url': 'https://www.quicksprout.com/how-to-gain-more-branded-search-volume-to-your-website/',\n",
       "  'urlToImage': 'https://www.quicksprout.com/wp-content/uploads/2017/04/image1-2.png',\n",
       "  'publishedAt': '2023-08-20T15:00:00Z',\n",
       "  'content': '“If people like you they will listen to you, but if they trust you, they’ll do business with you.“\\r\\n~Zig Ziglar\\r\\nIf you’re unfamiliar with the legendary Zig Ziglar, he knew a thing or two about brand… [+8680 chars]'},\n",
       " {'source': {'id': None, 'name': 'MakeUseOf'},\n",
       "  'author': 'Teodor Constantin Nechita',\n",
       "  'title': 'You Can Turn Google Pink by Typing \"Barbie Movie\" Into Search',\n",
       "  'description': \"Google packs plenty of Easter eggs, and its latest celebrates one of 2023's biggest film releases. Here's how you can turn Google pink for Barbie.\",\n",
       "  'url': 'https://www.makeuseof.com/google-barbie-easter-egg/',\n",
       "  'urlToImage': 'https://static1.makeuseofimages.com/wordpress/wp-content/uploads/2023/08/google-barbie-easter-egg-featured.jpg',\n",
       "  'publishedAt': '2023-08-03T14:05:24Z',\n",
       "  'content': 'Taking the internet by storm, the Barbie movie hit theatres on July 21st, 2023, and Google is among the companies that have taken part in promoting the film. It does so by implementing an immersive E… [+3073 chars]'},\n",
       " {'source': {'id': None, 'name': 'MakeUseOf'},\n",
       "  'author': 'Aman Kumar',\n",
       "  'title': 'How to Save Jobs (and Find Saved Jobs) on LinkedIn',\n",
       "  'description': 'You can save job listings that interest you on LinkedIn and come back to them later.',\n",
       "  'url': 'https://www.makeuseof.com/how-to-save-find-job-linkedin/',\n",
       "  'urlToImage': 'https://static1.makeuseofimages.com/wordpress/wp-content/uploads/2023/07/linkedin-tiles.jpg',\n",
       "  'publishedAt': '2023-08-28T13:30:24Z',\n",
       "  'content': 'When searching for jobs on LinkedIn, you might find an opportunity you want to apply for later. But what if you forget the job posting or the keyword that led you to it?\\r\\nTo avoid this, you can save … [+2480 chars]'},\n",
       " {'source': {'id': None, 'name': 'Search Engine Journal'},\n",
       "  'author': 'Kristi Hines',\n",
       "  'title': '6 New ChatGPT Features Include Prompt Examples & File Uploads via @sejournal, @kristileilani',\n",
       "  'description': 'ChatGPT is rolling out major updates, including intuitive prompt examples, suggested replies, file uploads for Code Interpreter, and keyboard shortcuts.\\nThe post 6 New ChatGPT Features Include Prompt Examples & File Uploads appeared first on Search Engine Jou…',\n",
       "  'url': 'https://www.searchenginejournal.com/6-new-chatgpt-features-include-prompt-examples-file-uploads/493240/',\n",
       "  'urlToImage': 'https://www.searchenginejournal.com/wp-content/uploads/2023/08/new-chatgpt-features-prompt-examples-file-uploads-keyboard-shortcuts-64cbe11467cc6-sej.jpg',\n",
       "  'publishedAt': '2023-08-03T17:26:20Z',\n",
       "  'content': 'OpenAI, the company behind the cutting-edge language model, ChatGPT, announced six new features rolling out in the latest version to enhance user interaction.\\r\\nWe’re rolling out a bunch of small upda… [+2808 chars]'},\n",
       " {'source': {'id': None, 'name': 'Search Engine Journal'},\n",
       "  'author': 'Matt G. Southern',\n",
       "  'title': 'How Google Analytics 4 Uses AI To Enhance Your Marketing Data via @sejournal, @MattGSouthern',\n",
       "  'description': 'Google Analytics 4 taps AI to surface insights, enable custom metric tracking, and provide data-driven recommendations.\\nThe post How Google Analytics 4 Uses AI To Enhance Your Marketing Data appeared first on Search Engine Journal.',\n",
       "  'url': 'https://www.searchenginejournal.com/how-google-analytics-4-uses-ai-to-enhance-your-marketing-data/494666/',\n",
       "  'urlToImage': 'https://www.searchenginejournal.com/wp-content/uploads/2023/08/img_2023-08-23-144957-64e6552832038-sej.jpeg',\n",
       "  'publishedAt': '2023-08-23T18:54:35Z',\n",
       "  'content': 'You may not realize it, but many of the data-driven insights in GA4 that you utilize daily are powered by AI.\\r\\nFeatures like automated insights, custom insights, and personalized recommendations show… [+2976 chars]'},\n",
       " {'source': {'id': None, 'name': 'Abondance.com'},\n",
       "  'author': 'Johan Sellitto',\n",
       "  'title': 'Goossips SEO : liens sortants, keyword stuffing',\n",
       "  'description': \"Quelques infos sur Google (et Bing parfois) et son moteur de recherche, glanées ici et là de façon officieuse ces derniers jours. Au programme, cette semaine : quel est l'impact sur le SEO des liens vers des sites populaires et à partir de quel nombre d'occur…\",\n",
       "  'url': 'https://www.abondance.com/20230808-110360-goossips-seo-liens-sortants-keyword-stuffing.html',\n",
       "  'urlToImage': 'https://www.abondance.com/wp-content/uploads/2018/07/goossip-entete-1.jpg',\n",
       "  'publishedAt': '2023-08-08T06:00:00Z',\n",
       "  'content': \"La charte Abondance.com pour la soumission de commentaires est la suivante : \\r\\n- Champ Nom : obligatoire. Seuls les noms de famille et/ou prénoms sont acceptés. Un commentaire n'est pas écrit par une… [+637 chars]\"},\n",
       " {'source': {'id': None, 'name': 'Stackoverflow.blog'},\n",
       "  'author': 'David Haney and David Gibson',\n",
       "  'title': 'Ask like a human: Implementing semantic search on Stack Overflow',\n",
       "  'description': 'Semantic search allows users to search using natural language instead of a rigid syntax of keyword manipulation.\\nThe post Ask like a human: Implementing semantic search on Stack Overflow appeared first on Stack Overflow Blog.',\n",
       "  'url': 'https://stackoverflow.blog/2023/07/31/ask-like-a-human-implementing-semantic-search-on-stack-overflow/',\n",
       "  'urlToImage': 'https://149351115.v2.pressablecdn.com/wp-content/uploads/2023/07/073123-Stack-Overflow-How-were-moving-to-semantic-research-scaled.jpg',\n",
       "  'publishedAt': '2023-07-31T14:00:00Z',\n",
       "  'content': 'Search has always been core to the Stack Overflow experience. It was one of the first features we built for users, and since the early days of Stack Overflow, most of our visitors have come to us thr… [+10261 chars]'},\n",
       " {'source': {'id': None, 'name': 'Semrush.com'},\n",
       "  'author': None,\n",
       "  'title': 'How to Write SEO Headlines That Rank (+ 9 Powerful Templates)',\n",
       "  'description': 'Get tips, tools, and templates to write better SEO headlines. Optimize your titles and drive more traffic.',\n",
       "  'url': 'https://www.semrush.com/blog/seo-headline/',\n",
       "  'urlToImage': 'https://static.semrush.com/blog/uploads/media/df/af/dfaf06773cc19fef73e44aa27281fb02/seo-headline-sm.png',\n",
       "  'publishedAt': '2023-08-03T08:50:00Z',\n",
       "  'content': 'Your SEO headline is crucial for standing out in search and generating clicks to your site.\\r\\nWriting great headlines can help you generate more traffica lot more.\\r\\nIn this guide, youll learn what tur… [+18549 chars]'},\n",
       " {'source': {'id': None, 'name': 'Deutsche-startups.de'},\n",
       "  'author': 'Team',\n",
       "  'title': '#Gastbeitrag - SEO Basics für Startups: Die ersten Schritte für Gründer',\n",
       "  'description': 'Der erste Schritt auf dem Weg zu einer erfolgreichen SEO-Strategie besteht darin, eine gründliche Keyword-Recherche durchzuführen. Neugründer sollten ihre Zielgruppe analysieren und herausfinden, nach welchen Keywords sie suchen könnten. Ein Gastbeitrag von J…',\n",
       "  'url': 'https://www.deutsche-startups.de/2023/08/04/seo-basics-fuer-startups/',\n",
       "  'urlToImage': 'https://www.deutsche-startups.de/app/uploads/2014/08/ds-seo-hipster.jpg',\n",
       "  'publishedAt': '2023-08-04T09:58:46Z',\n",
       "  'content': 'In der heutigen digitalen Welt ist die Sichtbarkeit im Internet für Startups von entscheidender Bedeutung. So können sie organisch und nachhaltig potenzielle Kunden anziehen. Eine effektive Möglichke… [+5295 chars]'},\n",
       " {'source': {'id': None, 'name': 'Dzone.com'},\n",
       "  'author': 'Saba Qureshi',\n",
       "  'title': 'Java String: A Complete Guide With Examples',\n",
       "  'description': 'In Java, the String class is one of the most fundamental and widely used classes. It represents a sequence of characters and serves as the backbone of text manipulation in Java programs. Strings are immutable, meaning their values cannot be changed once they …',\n",
       "  'url': 'https://dzone.com/articles/java-string-a-complete-guide-with-examples',\n",
       "  'urlToImage': 'https://dz2cdn3.dzone.com/storage/article-thumb/17144606-thumb.jpg',\n",
       "  'publishedAt': '2023-08-17T11:34:56Z',\n",
       "  'content': 'In Java, the String class is one of the most fundamental and widely used classes. It represents a sequence of characters and serves as the backbone of text manipulation in Java programs. Strings are … [+4009 chars]'},\n",
       " {'source': {'id': None, 'name': 'Xataka Android'},\n",
       "  'author': 'Pepu Ricca',\n",
       "  'title': 'Ya puedes denunciar contenidos de YouTube o conocer la política de Gmail desde el nuevo Centro de Transparencia de Google',\n",
       "  'description': 'En nuestros móviles Android, disfrutamos de una gran variedad de servicios que complementan y conforman el cómo usamos los dispositivos. Gmail, Google Maps, YouTube, Drive e incluso Discover, todas bajo el paraguas del gigante del buscador, proporcionan difer…',\n",
       "  'url': 'https://www.xatakandroid.com/aplicaciones-android/conocer-politica-gmail-denunciar-contenido-youtube-posible-nuevo-centro-transparencia-google-hace-oficial',\n",
       "  'urlToImage': 'https://i.blogs.es/159fa4/google-centro-de-transparencia/840_560.jpeg',\n",
       "  'publishedAt': '2023-08-17T12:45:12Z',\n",
       "  'content': 'En nuestros móviles Android, disfrutamos de una gran variedad de servicios que complementan y conforman el cómo usamos los dispositivos. Gmail, Google Maps, YouTube, Drive e incluso Discover, todas b… [+2992 chars]'},\n",
       " {'source': {'id': None, 'name': 'Github.io'},\n",
       "  'author': None,\n",
       "  'title': \"Using Vim's abbreviations (2020)\",\n",
       "  'description': 'Exploring some cool use cases for vim abbreviations',\n",
       "  'url': 'https://vonheikemen.github.io/devlog/tools/using-vim-abbreviations/',\n",
       "  'urlToImage': None,\n",
       "  'publishedAt': '2023-08-01T10:35:42Z',\n",
       "  'content': '2020-11-03\\r\\n| 10 min read\\r\\n| Leer en españolOne of the things vim does extremely well is automation. This time we\\'ll explore a feature called \"abbreviation\" and how can we use it to automate things i… [+9856 chars]'},\n",
       " {'source': {'id': None, 'name': 'Thecodedmessage.com'},\n",
       "  'author': None,\n",
       "  'title': 'C++ Papercuts',\n",
       "  'description': 'My current day job is now again a C++ role. And so, I find myself again focusing in this blog post on the downsides of C++.\\nOverall, I have found returning to active C++ dev to be exactly what I expected: I still have the skills, and can still be effective in…',\n",
       "  'url': 'https://www.thecodedmessage.com/posts/c&#43;&#43;-papercuts/',\n",
       "  'urlToImage': 'https://www.thecodedmessage.com/img/favicon/green.png',\n",
       "  'publishedAt': '2023-08-28T11:06:32Z',\n",
       "  'content': 'My current day job is now again a C++ role. And so, I find myself again\\r\\nfocusing in this blog post on the downsides of C++.\\r\\nOverall, I have found returning to active C++ dev to be exactly what\\r\\nI e… [+13012 chars]'},\n",
       " {'source': {'id': None, 'name': 'Graphql.org'},\n",
       "  'author': None,\n",
       "  'title': 'GraphQL Queries and Mutations',\n",
       "  'description': 'A query language for your API — GraphQL provides a complete description of the data in your API, gives clients the power to ask for exactly what they need and nothing more, makes it easier to evolve APIs over time, and enables powerful developer tools.',\n",
       "  'url': 'https://graphql.org/learn/queries/',\n",
       "  'urlToImage': 'https://graphql.org/img/og-image.png',\n",
       "  'publishedAt': '2023-08-13T05:04:31Z',\n",
       "  'content': \"On this page, you'll learn in detail about how to query a GraphQL server.\\r\\nFields#\\r\\nAt its simplest, GraphQL is about asking for specific fields on objects. Let's start by looking at a very simple qu… [+12698 chars]\"},\n",
       " {'source': {'id': None, 'name': 'Minimaxir.com'},\n",
       "  'author': None,\n",
       "  'title': 'I Made Stable Diffusion XL Smarter by Finetuning It on Bad AI-Generated Images',\n",
       "  'description': 'And then telling it to not generate those images!',\n",
       "  'url': 'https://minimaxir.com/2023/08/stable-diffusion-xl-wrong/',\n",
       "  'urlToImage': 'https://minimaxir.com/2023/08/stable-diffusion-xl-wrong/featured.webp',\n",
       "  'publishedAt': '2023-08-21T16:09:27Z',\n",
       "  'content': 'Last month, Stability AI released Stable Diffusion XL 1.0 (SDXL) and open-sourced it without requiring any special permissions to access it.\\r\\nExample SDXL 1.0 outputs. via Stability AI\\r\\nThe release w… [+14321 chars]'},\n",
       " {'source': {'id': None, 'name': 'Semrush.com'},\n",
       "  'author': None,\n",
       "  'title': 'Website Content Monitoring: Key Strategies for Success',\n",
       "  'description': 'Learn how content monitoring can help you track engagement and refine your content strategy for success.',\n",
       "  'url': 'https://www.semrush.com/blog/content-monitoring/',\n",
       "  'urlToImage': 'https://static.semrush.com/blog/uploads/media/d3/08/d308e118f135d749562830472413cdde/content-monitoring-sm.png',\n",
       "  'publishedAt': '2023-08-14T12:51:00Z',\n",
       "  'content': 'Your content may be captivating and well-written. But does it generate value in the form of leads or conversions?\\r\\nContent monitoring answers this question.\\xa0\\r\\nBy tracking the performance of your cont… [+14888 chars]'},\n",
       " {'source': {'id': None, 'name': 'Thedataquarry.com'},\n",
       "  'author': 'Prashanth Rao',\n",
       "  'title': 'Vector databases: analyzing the trade-offs',\n",
       "  'description': 'A deeper dive into some of the trade-offs involved when choosing a vector DB',\n",
       "  'url': 'https://thedataquarry.com/posts/vector-db-4/',\n",
       "  'urlToImage': None,\n",
       "  'publishedAt': '2023-08-19T21:46:26Z',\n",
       "  'content': 'Choosing the right vector DB solution for your use case\\r\\nLink to heading\\r\\nWelcome back! In the previous post in this series, we looked at the different types of indexes typically used in vector DBs. … [+21556 chars]'},\n",
       " {'source': {'id': None, 'name': 'Forbes'},\n",
       "  'author': 'John Hall, Senior Contributor, \\n John Hall, Senior Contributor\\n https://www.forbes.com/sites/johnhall/',\n",
       "  'title': 'How To Leverage Growth Marketing To Boost Slowing Sales',\n",
       "  'description': 'Worried about how a sales slump will impact your business? Learn how growth marketing techniques can improve your numbers.',\n",
       "  'url': 'https://www.forbes.com/sites/johnhall/2023/08/27/how-to-leverage-growth-marketing-to-boost-slowing-sales/',\n",
       "  'urlToImage': 'https://imageio.forbes.com/specials-images/imageserve/628be0110c7c94a8e3ea9402/0x0.jpg?format=jpg&crop=1602,1201,x0,y0,safe&width=1200',\n",
       "  'publishedAt': '2023-08-27T12:00:00Z',\n",
       "  'content': 'Business team meeting and discussing growth strategy\\r\\ngetty\\r\\nRetail sales were up 0.2% in June, but that doesnt mean the U.S. economy is booming. First off, the bump was lower than projected. Secondl… [+5563 chars]'}]"
      ]
     },
     "execution_count": 6,
     "metadata": {},
     "output_type": "execute_result"
    }
   ],
   "source": [
    "response1 = response.json()['articles']\n",
    "response1"
   ]
  },
  {
   "cell_type": "code",
   "execution_count": 7,
   "metadata": {},
   "outputs": [],
   "source": [
    "df = pd.DataFrame.from_dict(response1)"
   ]
  },
  {
   "cell_type": "code",
   "execution_count": 56,
   "metadata": {},
   "outputs": [
    {
     "data": {
      "text/html": [
       "<div>\n",
       "<style scoped>\n",
       "    .dataframe tbody tr th:only-of-type {\n",
       "        vertical-align: middle;\n",
       "    }\n",
       "\n",
       "    .dataframe tbody tr th {\n",
       "        vertical-align: top;\n",
       "    }\n",
       "\n",
       "    .dataframe thead th {\n",
       "        text-align: right;\n",
       "    }\n",
       "</style>\n",
       "<table border=\"1\" class=\"dataframe\">\n",
       "  <thead>\n",
       "    <tr style=\"text-align: right;\">\n",
       "      <th></th>\n",
       "      <th>source</th>\n",
       "      <th>author</th>\n",
       "      <th>title</th>\n",
       "      <th>description</th>\n",
       "      <th>url</th>\n",
       "      <th>urlToImage</th>\n",
       "      <th>publishedAt</th>\n",
       "      <th>content</th>\n",
       "    </tr>\n",
       "  </thead>\n",
       "  <tbody>\n",
       "    <tr>\n",
       "      <th>0</th>\n",
       "      <td>{'id': 'engadget', 'name': 'Engadget'}</td>\n",
       "      <td>Karissa Bell</td>\n",
       "      <td>X hopes ‘sensitivity settings’ will bring back...</td>\n",
       "      <td>X is giving advertisers new ways to have some ...</td>\n",
       "      <td>https://www.engadget.com/x-hopes-sensitivity-s...</td>\n",
       "      <td>https://s.yimg.com/uu/api/res/1.2/P2oxIvpENWHF...</td>\n",
       "      <td>2023-08-08T21:54:39Z</td>\n",
       "      <td>X is giving advertisers new ways to have some ...</td>\n",
       "    </tr>\n",
       "    <tr>\n",
       "      <th>1</th>\n",
       "      <td>{'id': None, 'name': 'Quicksprout.com'}</td>\n",
       "      <td>Corry Cummings</td>\n",
       "      <td>The Complete Guide to Keyword Research For SEO</td>\n",
       "      <td>All content campaigns begin with the same thin...</td>\n",
       "      <td>https://www.quicksprout.com/keyword-research/</td>\n",
       "      <td>https://www.quicksprout.com/wp-content/uploads...</td>\n",
       "      <td>2023-07-28T13:14:31Z</td>\n",
       "      <td>All content campaigns begin with the same thin...</td>\n",
       "    </tr>\n",
       "    <tr>\n",
       "      <th>2</th>\n",
       "      <td>{'id': None, 'name': 'Hackaday'}</td>\n",
       "      <td>Al Williams</td>\n",
       "      <td>The AI Engine that Fits in 100K</td>\n",
       "      <td>Running your own AI models is possible, but it...</td>\n",
       "      <td>https://hackaday.com/2023/08/02/the-ai-engine-...</td>\n",
       "      <td>https://hackaday.com/wp-content/uploads/2023/0...</td>\n",
       "      <td>2023-08-02T23:00:52Z</td>\n",
       "      <td>Running your own AI models is possible, but it...</td>\n",
       "    </tr>\n",
       "    <tr>\n",
       "      <th>3</th>\n",
       "      <td>{'id': None, 'name': 'ReadWrite'}</td>\n",
       "      <td>Al Sefati</td>\n",
       "      <td>Unlocking Big Success: Harnessing the Power of...</td>\n",
       "      <td>In the dynamic world of search marketing, the ...</td>\n",
       "      <td>https://readwrite.com/unlocking-big-success-ha...</td>\n",
       "      <td>https://readwrite.com/wp-content/uploads/2023/...</td>\n",
       "      <td>2023-08-23T20:00:33Z</td>\n",
       "      <td>In the dynamic world of search marketing, the ...</td>\n",
       "    </tr>\n",
       "    <tr>\n",
       "      <th>4</th>\n",
       "      <td>{'id': None, 'name': 'Nullpt.rs'}</td>\n",
       "      <td>None</td>\n",
       "      <td>Evading JavaScript anti-debugging techniques</td>\n",
       "      <td>Debuggers serve as invaluable tools that empow...</td>\n",
       "      <td>https://www.nullpt.rs/evading-anti-debugging-t...</td>\n",
       "      <td>None</td>\n",
       "      <td>2023-08-01T19:35:45Z</td>\n",
       "      <td>Debuggers serve as invaluable tools that empow...</td>\n",
       "    </tr>\n",
       "    <tr>\n",
       "      <th>...</th>\n",
       "      <td>...</td>\n",
       "      <td>...</td>\n",
       "      <td>...</td>\n",
       "      <td>...</td>\n",
       "      <td>...</td>\n",
       "      <td>...</td>\n",
       "      <td>...</td>\n",
       "      <td>...</td>\n",
       "    </tr>\n",
       "    <tr>\n",
       "      <th>95</th>\n",
       "      <td>{'id': None, 'name': 'Minimaxir.com'}</td>\n",
       "      <td>None</td>\n",
       "      <td>I Made Stable Diffusion XL Smarter by Finetuni...</td>\n",
       "      <td>And then telling it to not generate those images!</td>\n",
       "      <td>https://minimaxir.com/2023/08/stable-diffusion...</td>\n",
       "      <td>https://minimaxir.com/2023/08/stable-diffusion...</td>\n",
       "      <td>2023-08-21T16:09:27Z</td>\n",
       "      <td>Last month, Stability AI released Stable Diffu...</td>\n",
       "    </tr>\n",
       "    <tr>\n",
       "      <th>96</th>\n",
       "      <td>{'id': None, 'name': 'Thedataquarry.com'}</td>\n",
       "      <td>Prashanth Rao</td>\n",
       "      <td>Vector databases: analyzing the trade-offs</td>\n",
       "      <td>A deeper dive into some of the trade-offs invo...</td>\n",
       "      <td>https://thedataquarry.com/posts/vector-db-4/</td>\n",
       "      <td>None</td>\n",
       "      <td>2023-08-19T21:46:26Z</td>\n",
       "      <td>Choosing the right vector DB solution for your...</td>\n",
       "    </tr>\n",
       "    <tr>\n",
       "      <th>97</th>\n",
       "      <td>{'id': None, 'name': 'Forbes'}</td>\n",
       "      <td>John Hall, Senior Contributor, \\n John Hall, S...</td>\n",
       "      <td>How To Leverage Growth Marketing To Boost Slow...</td>\n",
       "      <td>Worried about how a sales slump will impact yo...</td>\n",
       "      <td>https://www.forbes.com/sites/johnhall/2023/08/...</td>\n",
       "      <td>https://imageio.forbes.com/specials-images/ima...</td>\n",
       "      <td>2023-08-27T12:00:00Z</td>\n",
       "      <td>Business team meeting and discussing growth st...</td>\n",
       "    </tr>\n",
       "    <tr>\n",
       "      <th>98</th>\n",
       "      <td>{'id': None, 'name': 'Yoast.com'}</td>\n",
       "      <td>Edwin Toonen</td>\n",
       "      <td>Generative AI and SEO: Revolutionizing content...</td>\n",
       "      <td>SEO has always been vital in making your websi...</td>\n",
       "      <td>https://yoast.com/generative-ai-and-seo/</td>\n",
       "      <td>https://yoast.com/app/uploads/2023/08/generati...</td>\n",
       "      <td>2023-08-15T11:17:06Z</td>\n",
       "      <td>SEO has always been vital in making your websi...</td>\n",
       "    </tr>\n",
       "    <tr>\n",
       "      <th>99</th>\n",
       "      <td>{'id': None, 'name': 'Wordpress.com'}</td>\n",
       "      <td>None</td>\n",
       "      <td>Death of the physical library</td>\n",
       "      <td>One of the unsung disasters of contemporary ac...</td>\n",
       "      <td>https://scottlocklin.wordpress.com/2023/07/28/...</td>\n",
       "      <td>https://scottlocklin.files.wordpress.com/2023/...</td>\n",
       "      <td>2023-07-28T21:56:06Z</td>\n",
       "      <td>One of the unsung disasters of contemporary ac...</td>\n",
       "    </tr>\n",
       "  </tbody>\n",
       "</table>\n",
       "<p>100 rows × 8 columns</p>\n",
       "</div>"
      ],
      "text/plain": [
       "                                       source  \\\n",
       "0      {'id': 'engadget', 'name': 'Engadget'}   \n",
       "1     {'id': None, 'name': 'Quicksprout.com'}   \n",
       "2            {'id': None, 'name': 'Hackaday'}   \n",
       "3           {'id': None, 'name': 'ReadWrite'}   \n",
       "4           {'id': None, 'name': 'Nullpt.rs'}   \n",
       "..                                        ...   \n",
       "95      {'id': None, 'name': 'Minimaxir.com'}   \n",
       "96  {'id': None, 'name': 'Thedataquarry.com'}   \n",
       "97             {'id': None, 'name': 'Forbes'}   \n",
       "98          {'id': None, 'name': 'Yoast.com'}   \n",
       "99      {'id': None, 'name': 'Wordpress.com'}   \n",
       "\n",
       "                                               author  \\\n",
       "0                                        Karissa Bell   \n",
       "1                                      Corry Cummings   \n",
       "2                                         Al Williams   \n",
       "3                                           Al Sefati   \n",
       "4                                                None   \n",
       "..                                                ...   \n",
       "95                                               None   \n",
       "96                                      Prashanth Rao   \n",
       "97  John Hall, Senior Contributor, \\n John Hall, S...   \n",
       "98                                       Edwin Toonen   \n",
       "99                                               None   \n",
       "\n",
       "                                                title  \\\n",
       "0   X hopes ‘sensitivity settings’ will bring back...   \n",
       "1      The Complete Guide to Keyword Research For SEO   \n",
       "2                     The AI Engine that Fits in 100K   \n",
       "3   Unlocking Big Success: Harnessing the Power of...   \n",
       "4        Evading JavaScript anti-debugging techniques   \n",
       "..                                                ...   \n",
       "95  I Made Stable Diffusion XL Smarter by Finetuni...   \n",
       "96         Vector databases: analyzing the trade-offs   \n",
       "97  How To Leverage Growth Marketing To Boost Slow...   \n",
       "98  Generative AI and SEO: Revolutionizing content...   \n",
       "99                      Death of the physical library   \n",
       "\n",
       "                                          description  \\\n",
       "0   X is giving advertisers new ways to have some ...   \n",
       "1   All content campaigns begin with the same thin...   \n",
       "2   Running your own AI models is possible, but it...   \n",
       "3   In the dynamic world of search marketing, the ...   \n",
       "4   Debuggers serve as invaluable tools that empow...   \n",
       "..                                                ...   \n",
       "95  And then telling it to not generate those images!   \n",
       "96  A deeper dive into some of the trade-offs invo...   \n",
       "97  Worried about how a sales slump will impact yo...   \n",
       "98  SEO has always been vital in making your websi...   \n",
       "99  One of the unsung disasters of contemporary ac...   \n",
       "\n",
       "                                                  url  \\\n",
       "0   https://www.engadget.com/x-hopes-sensitivity-s...   \n",
       "1       https://www.quicksprout.com/keyword-research/   \n",
       "2   https://hackaday.com/2023/08/02/the-ai-engine-...   \n",
       "3   https://readwrite.com/unlocking-big-success-ha...   \n",
       "4   https://www.nullpt.rs/evading-anti-debugging-t...   \n",
       "..                                                ...   \n",
       "95  https://minimaxir.com/2023/08/stable-diffusion...   \n",
       "96       https://thedataquarry.com/posts/vector-db-4/   \n",
       "97  https://www.forbes.com/sites/johnhall/2023/08/...   \n",
       "98           https://yoast.com/generative-ai-and-seo/   \n",
       "99  https://scottlocklin.wordpress.com/2023/07/28/...   \n",
       "\n",
       "                                           urlToImage           publishedAt  \\\n",
       "0   https://s.yimg.com/uu/api/res/1.2/P2oxIvpENWHF...  2023-08-08T21:54:39Z   \n",
       "1   https://www.quicksprout.com/wp-content/uploads...  2023-07-28T13:14:31Z   \n",
       "2   https://hackaday.com/wp-content/uploads/2023/0...  2023-08-02T23:00:52Z   \n",
       "3   https://readwrite.com/wp-content/uploads/2023/...  2023-08-23T20:00:33Z   \n",
       "4                                                None  2023-08-01T19:35:45Z   \n",
       "..                                                ...                   ...   \n",
       "95  https://minimaxir.com/2023/08/stable-diffusion...  2023-08-21T16:09:27Z   \n",
       "96                                               None  2023-08-19T21:46:26Z   \n",
       "97  https://imageio.forbes.com/specials-images/ima...  2023-08-27T12:00:00Z   \n",
       "98  https://yoast.com/app/uploads/2023/08/generati...  2023-08-15T11:17:06Z   \n",
       "99  https://scottlocklin.files.wordpress.com/2023/...  2023-07-28T21:56:06Z   \n",
       "\n",
       "                                              content  \n",
       "0   X is giving advertisers new ways to have some ...  \n",
       "1   All content campaigns begin with the same thin...  \n",
       "2   Running your own AI models is possible, but it...  \n",
       "3   In the dynamic world of search marketing, the ...  \n",
       "4   Debuggers serve as invaluable tools that empow...  \n",
       "..                                                ...  \n",
       "95  Last month, Stability AI released Stable Diffu...  \n",
       "96  Choosing the right vector DB solution for your...  \n",
       "97  Business team meeting and discussing growth st...  \n",
       "98  SEO has always been vital in making your websi...  \n",
       "99  One of the unsung disasters of contemporary ac...  \n",
       "\n",
       "[100 rows x 8 columns]"
      ]
     },
     "execution_count": 56,
     "metadata": {},
     "output_type": "execute_result"
    }
   ],
   "source": [
    "df"
   ]
  },
  {
   "cell_type": "code",
   "execution_count": 24,
   "metadata": {},
   "outputs": [
    {
     "name": "stdout",
     "output_type": "stream",
     "text": [
      "<class 'pandas.core.frame.DataFrame'>\n",
      "RangeIndex: 100 entries, 0 to 99\n",
      "Data columns (total 8 columns):\n",
      " #   Column       Non-Null Count  Dtype \n",
      "---  ------       --------------  ----- \n",
      " 0   source       100 non-null    object\n",
      " 1   author       84 non-null     object\n",
      " 2   title        100 non-null    object\n",
      " 3   description  100 non-null    object\n",
      " 4   url          100 non-null    object\n",
      " 5   urlToImage   90 non-null     object\n",
      " 6   publishedAt  100 non-null    object\n",
      " 7   content      100 non-null    object\n",
      "dtypes: object(8)\n",
      "memory usage: 6.4+ KB\n"
     ]
    }
   ],
   "source": [
    "df.info()"
   ]
  },
  {
   "cell_type": "code",
   "execution_count": 8,
   "metadata": {},
   "outputs": [],
   "source": [
    "columns = ['publishedAt', 'content']\n",
    "df.drop(columns=columns,axis=1,inplace=True)"
   ]
  },
  {
   "cell_type": "code",
   "execution_count": 9,
   "metadata": {},
   "outputs": [],
   "source": [
    "name_change = [{'urlToImage':'url_to_image'}]\n",
    "for name in name_change:\n",
    "    df.rename(columns=name,inplace=True)"
   ]
  },
  {
   "cell_type": "code",
   "execution_count": 10,
   "metadata": {},
   "outputs": [
    {
     "data": {
      "text/html": [
       "<div>\n",
       "<style scoped>\n",
       "    .dataframe tbody tr th:only-of-type {\n",
       "        vertical-align: middle;\n",
       "    }\n",
       "\n",
       "    .dataframe tbody tr th {\n",
       "        vertical-align: top;\n",
       "    }\n",
       "\n",
       "    .dataframe thead th {\n",
       "        text-align: right;\n",
       "    }\n",
       "</style>\n",
       "<table border=\"1\" class=\"dataframe\">\n",
       "  <thead>\n",
       "    <tr style=\"text-align: right;\">\n",
       "      <th></th>\n",
       "      <th>source</th>\n",
       "      <th>author</th>\n",
       "      <th>title</th>\n",
       "      <th>description</th>\n",
       "      <th>url</th>\n",
       "      <th>url_to_image</th>\n",
       "    </tr>\n",
       "  </thead>\n",
       "  <tbody>\n",
       "    <tr>\n",
       "      <th>0</th>\n",
       "      <td>{'id': 'engadget', 'name': 'Engadget'}</td>\n",
       "      <td>Karissa Bell</td>\n",
       "      <td>X hopes ‘sensitivity settings’ will bring back...</td>\n",
       "      <td>X is giving advertisers new ways to have some ...</td>\n",
       "      <td>https://www.engadget.com/x-hopes-sensitivity-s...</td>\n",
       "      <td>https://s.yimg.com/uu/api/res/1.2/P2oxIvpENWHF...</td>\n",
       "    </tr>\n",
       "    <tr>\n",
       "      <th>1</th>\n",
       "      <td>{'id': None, 'name': 'Hackaday'}</td>\n",
       "      <td>Al Williams</td>\n",
       "      <td>The AI Engine that Fits in 100K</td>\n",
       "      <td>Running your own AI models is possible, but it...</td>\n",
       "      <td>https://hackaday.com/2023/08/02/the-ai-engine-...</td>\n",
       "      <td>https://hackaday.com/wp-content/uploads/2023/0...</td>\n",
       "    </tr>\n",
       "    <tr>\n",
       "      <th>2</th>\n",
       "      <td>{'id': None, 'name': 'ReadWrite'}</td>\n",
       "      <td>Al Sefati</td>\n",
       "      <td>Unlocking Big Success: Harnessing the Power of...</td>\n",
       "      <td>In the dynamic world of search marketing, the ...</td>\n",
       "      <td>https://readwrite.com/unlocking-big-success-ha...</td>\n",
       "      <td>https://readwrite.com/wp-content/uploads/2023/...</td>\n",
       "    </tr>\n",
       "    <tr>\n",
       "      <th>3</th>\n",
       "      <td>{'id': None, 'name': 'Nullpt.rs'}</td>\n",
       "      <td>None</td>\n",
       "      <td>Evading JavaScript anti-debugging techniques</td>\n",
       "      <td>Debuggers serve as invaluable tools that empow...</td>\n",
       "      <td>https://www.nullpt.rs/evading-anti-debugging-t...</td>\n",
       "      <td>None</td>\n",
       "    </tr>\n",
       "    <tr>\n",
       "      <th>4</th>\n",
       "      <td>{'id': None, 'name': 'Android Central'}</td>\n",
       "      <td>tips@androidcentral.com (Nickolas Diaz)</td>\n",
       "      <td>Google redesigns its Arts &amp; Culture app with a...</td>\n",
       "      <td>Google launches its Arts &amp; Culture app redesig...</td>\n",
       "      <td>https://www.androidcentral.com/apps-software/g...</td>\n",
       "      <td>https://cdn.mos.cms.futurecdn.net/vy9wjipiWtnz...</td>\n",
       "    </tr>\n",
       "    <tr>\n",
       "      <th>...</th>\n",
       "      <td>...</td>\n",
       "      <td>...</td>\n",
       "      <td>...</td>\n",
       "      <td>...</td>\n",
       "      <td>...</td>\n",
       "      <td>...</td>\n",
       "    </tr>\n",
       "    <tr>\n",
       "      <th>95</th>\n",
       "      <td>{'id': None, 'name': 'Graphql.org'}</td>\n",
       "      <td>None</td>\n",
       "      <td>GraphQL Queries and Mutations</td>\n",
       "      <td>A query language for your API — GraphQL provid...</td>\n",
       "      <td>https://graphql.org/learn/queries/</td>\n",
       "      <td>https://graphql.org/img/og-image.png</td>\n",
       "    </tr>\n",
       "    <tr>\n",
       "      <th>96</th>\n",
       "      <td>{'id': None, 'name': 'Minimaxir.com'}</td>\n",
       "      <td>None</td>\n",
       "      <td>I Made Stable Diffusion XL Smarter by Finetuni...</td>\n",
       "      <td>And then telling it to not generate those images!</td>\n",
       "      <td>https://minimaxir.com/2023/08/stable-diffusion...</td>\n",
       "      <td>https://minimaxir.com/2023/08/stable-diffusion...</td>\n",
       "    </tr>\n",
       "    <tr>\n",
       "      <th>97</th>\n",
       "      <td>{'id': None, 'name': 'Semrush.com'}</td>\n",
       "      <td>None</td>\n",
       "      <td>Website Content Monitoring: Key Strategies for...</td>\n",
       "      <td>Learn how content monitoring can help you trac...</td>\n",
       "      <td>https://www.semrush.com/blog/content-monitoring/</td>\n",
       "      <td>https://static.semrush.com/blog/uploads/media/...</td>\n",
       "    </tr>\n",
       "    <tr>\n",
       "      <th>98</th>\n",
       "      <td>{'id': None, 'name': 'Thedataquarry.com'}</td>\n",
       "      <td>Prashanth Rao</td>\n",
       "      <td>Vector databases: analyzing the trade-offs</td>\n",
       "      <td>A deeper dive into some of the trade-offs invo...</td>\n",
       "      <td>https://thedataquarry.com/posts/vector-db-4/</td>\n",
       "      <td>None</td>\n",
       "    </tr>\n",
       "    <tr>\n",
       "      <th>99</th>\n",
       "      <td>{'id': None, 'name': 'Forbes'}</td>\n",
       "      <td>John Hall, Senior Contributor, \\n John Hall, S...</td>\n",
       "      <td>How To Leverage Growth Marketing To Boost Slow...</td>\n",
       "      <td>Worried about how a sales slump will impact yo...</td>\n",
       "      <td>https://www.forbes.com/sites/johnhall/2023/08/...</td>\n",
       "      <td>https://imageio.forbes.com/specials-images/ima...</td>\n",
       "    </tr>\n",
       "  </tbody>\n",
       "</table>\n",
       "<p>100 rows × 6 columns</p>\n",
       "</div>"
      ],
      "text/plain": [
       "                                       source  \\\n",
       "0      {'id': 'engadget', 'name': 'Engadget'}   \n",
       "1            {'id': None, 'name': 'Hackaday'}   \n",
       "2           {'id': None, 'name': 'ReadWrite'}   \n",
       "3           {'id': None, 'name': 'Nullpt.rs'}   \n",
       "4     {'id': None, 'name': 'Android Central'}   \n",
       "..                                        ...   \n",
       "95        {'id': None, 'name': 'Graphql.org'}   \n",
       "96      {'id': None, 'name': 'Minimaxir.com'}   \n",
       "97        {'id': None, 'name': 'Semrush.com'}   \n",
       "98  {'id': None, 'name': 'Thedataquarry.com'}   \n",
       "99             {'id': None, 'name': 'Forbes'}   \n",
       "\n",
       "                                               author  \\\n",
       "0                                        Karissa Bell   \n",
       "1                                         Al Williams   \n",
       "2                                           Al Sefati   \n",
       "3                                                None   \n",
       "4             tips@androidcentral.com (Nickolas Diaz)   \n",
       "..                                                ...   \n",
       "95                                               None   \n",
       "96                                               None   \n",
       "97                                               None   \n",
       "98                                      Prashanth Rao   \n",
       "99  John Hall, Senior Contributor, \\n John Hall, S...   \n",
       "\n",
       "                                                title  \\\n",
       "0   X hopes ‘sensitivity settings’ will bring back...   \n",
       "1                     The AI Engine that Fits in 100K   \n",
       "2   Unlocking Big Success: Harnessing the Power of...   \n",
       "3        Evading JavaScript anti-debugging techniques   \n",
       "4   Google redesigns its Arts & Culture app with a...   \n",
       "..                                                ...   \n",
       "95                      GraphQL Queries and Mutations   \n",
       "96  I Made Stable Diffusion XL Smarter by Finetuni...   \n",
       "97  Website Content Monitoring: Key Strategies for...   \n",
       "98         Vector databases: analyzing the trade-offs   \n",
       "99  How To Leverage Growth Marketing To Boost Slow...   \n",
       "\n",
       "                                          description  \\\n",
       "0   X is giving advertisers new ways to have some ...   \n",
       "1   Running your own AI models is possible, but it...   \n",
       "2   In the dynamic world of search marketing, the ...   \n",
       "3   Debuggers serve as invaluable tools that empow...   \n",
       "4   Google launches its Arts & Culture app redesig...   \n",
       "..                                                ...   \n",
       "95  A query language for your API — GraphQL provid...   \n",
       "96  And then telling it to not generate those images!   \n",
       "97  Learn how content monitoring can help you trac...   \n",
       "98  A deeper dive into some of the trade-offs invo...   \n",
       "99  Worried about how a sales slump will impact yo...   \n",
       "\n",
       "                                                  url  \\\n",
       "0   https://www.engadget.com/x-hopes-sensitivity-s...   \n",
       "1   https://hackaday.com/2023/08/02/the-ai-engine-...   \n",
       "2   https://readwrite.com/unlocking-big-success-ha...   \n",
       "3   https://www.nullpt.rs/evading-anti-debugging-t...   \n",
       "4   https://www.androidcentral.com/apps-software/g...   \n",
       "..                                                ...   \n",
       "95                 https://graphql.org/learn/queries/   \n",
       "96  https://minimaxir.com/2023/08/stable-diffusion...   \n",
       "97   https://www.semrush.com/blog/content-monitoring/   \n",
       "98       https://thedataquarry.com/posts/vector-db-4/   \n",
       "99  https://www.forbes.com/sites/johnhall/2023/08/...   \n",
       "\n",
       "                                         url_to_image  \n",
       "0   https://s.yimg.com/uu/api/res/1.2/P2oxIvpENWHF...  \n",
       "1   https://hackaday.com/wp-content/uploads/2023/0...  \n",
       "2   https://readwrite.com/wp-content/uploads/2023/...  \n",
       "3                                                None  \n",
       "4   https://cdn.mos.cms.futurecdn.net/vy9wjipiWtnz...  \n",
       "..                                                ...  \n",
       "95               https://graphql.org/img/og-image.png  \n",
       "96  https://minimaxir.com/2023/08/stable-diffusion...  \n",
       "97  https://static.semrush.com/blog/uploads/media/...  \n",
       "98                                               None  \n",
       "99  https://imageio.forbes.com/specials-images/ima...  \n",
       "\n",
       "[100 rows x 6 columns]"
      ]
     },
     "execution_count": 10,
     "metadata": {},
     "output_type": "execute_result"
    }
   ],
   "source": [
    "df"
   ]
  },
  {
   "cell_type": "code",
   "execution_count": 11,
   "metadata": {},
   "outputs": [],
   "source": [
    "df.source = [df['source'][i]['name'] for i in range(len(df))] # i in the df['source'][i][name] points to every index number that we are able to grab. For i in range, range tell Python we are looking at the range of index from 0-99\n",
    "# range does not accept a dataframe or anything other than a numerical value or integer, since range have a start, stop, step. The step is not included in this, we just have a start and stop, 0-99"
   ]
  },
  {
   "cell_type": "code",
   "execution_count": 12,
   "metadata": {},
   "outputs": [
    {
     "data": {
      "text/html": [
       "<div>\n",
       "<style scoped>\n",
       "    .dataframe tbody tr th:only-of-type {\n",
       "        vertical-align: middle;\n",
       "    }\n",
       "\n",
       "    .dataframe tbody tr th {\n",
       "        vertical-align: top;\n",
       "    }\n",
       "\n",
       "    .dataframe thead th {\n",
       "        text-align: right;\n",
       "    }\n",
       "</style>\n",
       "<table border=\"1\" class=\"dataframe\">\n",
       "  <thead>\n",
       "    <tr style=\"text-align: right;\">\n",
       "      <th></th>\n",
       "      <th>source</th>\n",
       "      <th>author</th>\n",
       "      <th>title</th>\n",
       "      <th>description</th>\n",
       "      <th>url</th>\n",
       "      <th>url_to_image</th>\n",
       "    </tr>\n",
       "  </thead>\n",
       "  <tbody>\n",
       "    <tr>\n",
       "      <th>0</th>\n",
       "      <td>Engadget</td>\n",
       "      <td>Karissa Bell</td>\n",
       "      <td>X hopes ‘sensitivity settings’ will bring back...</td>\n",
       "      <td>X is giving advertisers new ways to have some ...</td>\n",
       "      <td>https://www.engadget.com/x-hopes-sensitivity-s...</td>\n",
       "      <td>https://s.yimg.com/uu/api/res/1.2/P2oxIvpENWHF...</td>\n",
       "    </tr>\n",
       "    <tr>\n",
       "      <th>1</th>\n",
       "      <td>Hackaday</td>\n",
       "      <td>Al Williams</td>\n",
       "      <td>The AI Engine that Fits in 100K</td>\n",
       "      <td>Running your own AI models is possible, but it...</td>\n",
       "      <td>https://hackaday.com/2023/08/02/the-ai-engine-...</td>\n",
       "      <td>https://hackaday.com/wp-content/uploads/2023/0...</td>\n",
       "    </tr>\n",
       "    <tr>\n",
       "      <th>2</th>\n",
       "      <td>ReadWrite</td>\n",
       "      <td>Al Sefati</td>\n",
       "      <td>Unlocking Big Success: Harnessing the Power of...</td>\n",
       "      <td>In the dynamic world of search marketing, the ...</td>\n",
       "      <td>https://readwrite.com/unlocking-big-success-ha...</td>\n",
       "      <td>https://readwrite.com/wp-content/uploads/2023/...</td>\n",
       "    </tr>\n",
       "    <tr>\n",
       "      <th>3</th>\n",
       "      <td>Nullpt.rs</td>\n",
       "      <td>No author found</td>\n",
       "      <td>Evading JavaScript anti-debugging techniques</td>\n",
       "      <td>Debuggers serve as invaluable tools that empow...</td>\n",
       "      <td>https://www.nullpt.rs/evading-anti-debugging-t...</td>\n",
       "      <td>None</td>\n",
       "    </tr>\n",
       "    <tr>\n",
       "      <th>4</th>\n",
       "      <td>Android Central</td>\n",
       "      <td>tips@androidcentral.com (Nickolas Diaz)</td>\n",
       "      <td>Google redesigns its Arts &amp; Culture app with a...</td>\n",
       "      <td>Google launches its Arts &amp; Culture app redesig...</td>\n",
       "      <td>https://www.androidcentral.com/apps-software/g...</td>\n",
       "      <td>https://cdn.mos.cms.futurecdn.net/vy9wjipiWtnz...</td>\n",
       "    </tr>\n",
       "    <tr>\n",
       "      <th>...</th>\n",
       "      <td>...</td>\n",
       "      <td>...</td>\n",
       "      <td>...</td>\n",
       "      <td>...</td>\n",
       "      <td>...</td>\n",
       "      <td>...</td>\n",
       "    </tr>\n",
       "    <tr>\n",
       "      <th>95</th>\n",
       "      <td>Graphql.org</td>\n",
       "      <td>No author found</td>\n",
       "      <td>GraphQL Queries and Mutations</td>\n",
       "      <td>A query language for your API — GraphQL provid...</td>\n",
       "      <td>https://graphql.org/learn/queries/</td>\n",
       "      <td>https://graphql.org/img/og-image.png</td>\n",
       "    </tr>\n",
       "    <tr>\n",
       "      <th>96</th>\n",
       "      <td>Minimaxir.com</td>\n",
       "      <td>No author found</td>\n",
       "      <td>I Made Stable Diffusion XL Smarter by Finetuni...</td>\n",
       "      <td>And then telling it to not generate those images!</td>\n",
       "      <td>https://minimaxir.com/2023/08/stable-diffusion...</td>\n",
       "      <td>https://minimaxir.com/2023/08/stable-diffusion...</td>\n",
       "    </tr>\n",
       "    <tr>\n",
       "      <th>97</th>\n",
       "      <td>Semrush.com</td>\n",
       "      <td>No author found</td>\n",
       "      <td>Website Content Monitoring: Key Strategies for...</td>\n",
       "      <td>Learn how content monitoring can help you trac...</td>\n",
       "      <td>https://www.semrush.com/blog/content-monitoring/</td>\n",
       "      <td>https://static.semrush.com/blog/uploads/media/...</td>\n",
       "    </tr>\n",
       "    <tr>\n",
       "      <th>98</th>\n",
       "      <td>Thedataquarry.com</td>\n",
       "      <td>Prashanth Rao</td>\n",
       "      <td>Vector databases: analyzing the trade-offs</td>\n",
       "      <td>A deeper dive into some of the trade-offs invo...</td>\n",
       "      <td>https://thedataquarry.com/posts/vector-db-4/</td>\n",
       "      <td>None</td>\n",
       "    </tr>\n",
       "    <tr>\n",
       "      <th>99</th>\n",
       "      <td>Forbes</td>\n",
       "      <td>John Hall, Senior Contributor, \\n John Hall, S...</td>\n",
       "      <td>How To Leverage Growth Marketing To Boost Slow...</td>\n",
       "      <td>Worried about how a sales slump will impact yo...</td>\n",
       "      <td>https://www.forbes.com/sites/johnhall/2023/08/...</td>\n",
       "      <td>https://imageio.forbes.com/specials-images/ima...</td>\n",
       "    </tr>\n",
       "  </tbody>\n",
       "</table>\n",
       "<p>100 rows × 6 columns</p>\n",
       "</div>"
      ],
      "text/plain": [
       "               source                                             author  \\\n",
       "0            Engadget                                       Karissa Bell   \n",
       "1            Hackaday                                        Al Williams   \n",
       "2           ReadWrite                                          Al Sefati   \n",
       "3           Nullpt.rs                                    No author found   \n",
       "4     Android Central            tips@androidcentral.com (Nickolas Diaz)   \n",
       "..                ...                                                ...   \n",
       "95        Graphql.org                                    No author found   \n",
       "96      Minimaxir.com                                    No author found   \n",
       "97        Semrush.com                                    No author found   \n",
       "98  Thedataquarry.com                                      Prashanth Rao   \n",
       "99             Forbes  John Hall, Senior Contributor, \\n John Hall, S...   \n",
       "\n",
       "                                                title  \\\n",
       "0   X hopes ‘sensitivity settings’ will bring back...   \n",
       "1                     The AI Engine that Fits in 100K   \n",
       "2   Unlocking Big Success: Harnessing the Power of...   \n",
       "3        Evading JavaScript anti-debugging techniques   \n",
       "4   Google redesigns its Arts & Culture app with a...   \n",
       "..                                                ...   \n",
       "95                      GraphQL Queries and Mutations   \n",
       "96  I Made Stable Diffusion XL Smarter by Finetuni...   \n",
       "97  Website Content Monitoring: Key Strategies for...   \n",
       "98         Vector databases: analyzing the trade-offs   \n",
       "99  How To Leverage Growth Marketing To Boost Slow...   \n",
       "\n",
       "                                          description  \\\n",
       "0   X is giving advertisers new ways to have some ...   \n",
       "1   Running your own AI models is possible, but it...   \n",
       "2   In the dynamic world of search marketing, the ...   \n",
       "3   Debuggers serve as invaluable tools that empow...   \n",
       "4   Google launches its Arts & Culture app redesig...   \n",
       "..                                                ...   \n",
       "95  A query language for your API — GraphQL provid...   \n",
       "96  And then telling it to not generate those images!   \n",
       "97  Learn how content monitoring can help you trac...   \n",
       "98  A deeper dive into some of the trade-offs invo...   \n",
       "99  Worried about how a sales slump will impact yo...   \n",
       "\n",
       "                                                  url  \\\n",
       "0   https://www.engadget.com/x-hopes-sensitivity-s...   \n",
       "1   https://hackaday.com/2023/08/02/the-ai-engine-...   \n",
       "2   https://readwrite.com/unlocking-big-success-ha...   \n",
       "3   https://www.nullpt.rs/evading-anti-debugging-t...   \n",
       "4   https://www.androidcentral.com/apps-software/g...   \n",
       "..                                                ...   \n",
       "95                 https://graphql.org/learn/queries/   \n",
       "96  https://minimaxir.com/2023/08/stable-diffusion...   \n",
       "97   https://www.semrush.com/blog/content-monitoring/   \n",
       "98       https://thedataquarry.com/posts/vector-db-4/   \n",
       "99  https://www.forbes.com/sites/johnhall/2023/08/...   \n",
       "\n",
       "                                         url_to_image  \n",
       "0   https://s.yimg.com/uu/api/res/1.2/P2oxIvpENWHF...  \n",
       "1   https://hackaday.com/wp-content/uploads/2023/0...  \n",
       "2   https://readwrite.com/wp-content/uploads/2023/...  \n",
       "3                                                None  \n",
       "4   https://cdn.mos.cms.futurecdn.net/vy9wjipiWtnz...  \n",
       "..                                                ...  \n",
       "95               https://graphql.org/img/og-image.png  \n",
       "96  https://minimaxir.com/2023/08/stable-diffusion...  \n",
       "97  https://static.semrush.com/blog/uploads/media/...  \n",
       "98                                               None  \n",
       "99  https://imageio.forbes.com/specials-images/ima...  \n",
       "\n",
       "[100 rows x 6 columns]"
      ]
     },
     "execution_count": 12,
     "metadata": {},
     "output_type": "execute_result"
    }
   ],
   "source": [
    "# df.author = df.author.str.replace('None', 'No author listed')\n",
    "# for author_name in df['author']:\n",
    "#     if author_name == np.nan:\n",
    "#         author_name = \"No author listed\"\n",
    "df.author = df['author'].fillna('No author found')\n",
    "df\n"
   ]
  },
  {
   "cell_type": "code",
   "execution_count": 13,
   "metadata": {},
   "outputs": [
    {
     "data": {
      "text/html": [
       "<div>\n",
       "<style scoped>\n",
       "    .dataframe tbody tr th:only-of-type {\n",
       "        vertical-align: middle;\n",
       "    }\n",
       "\n",
       "    .dataframe tbody tr th {\n",
       "        vertical-align: top;\n",
       "    }\n",
       "\n",
       "    .dataframe thead th {\n",
       "        text-align: right;\n",
       "    }\n",
       "</style>\n",
       "<table border=\"1\" class=\"dataframe\">\n",
       "  <thead>\n",
       "    <tr style=\"text-align: right;\">\n",
       "      <th></th>\n",
       "      <th>source</th>\n",
       "      <th>author</th>\n",
       "      <th>title</th>\n",
       "      <th>description</th>\n",
       "      <th>url</th>\n",
       "      <th>url_to_image</th>\n",
       "    </tr>\n",
       "  </thead>\n",
       "  <tbody>\n",
       "    <tr>\n",
       "      <th>0</th>\n",
       "      <td>Engadget</td>\n",
       "      <td>Karissa Bell</td>\n",
       "      <td>X hopes ‘sensitivity settings’ will bring back...</td>\n",
       "      <td>X is giving advertisers new ways to have some ...</td>\n",
       "      <td>https://www.engadget.com/x-hopes-sensitivity-s...</td>\n",
       "      <td>https://s.yimg.com/uu/api/res/1.2/P2oxIvpENWHF...</td>\n",
       "    </tr>\n",
       "    <tr>\n",
       "      <th>1</th>\n",
       "      <td>Hackaday</td>\n",
       "      <td>Al Williams</td>\n",
       "      <td>The AI Engine that Fits in 100K</td>\n",
       "      <td>Running your own AI models is possible, but it...</td>\n",
       "      <td>https://hackaday.com/2023/08/02/the-ai-engine-...</td>\n",
       "      <td>https://hackaday.com/wp-content/uploads/2023/0...</td>\n",
       "    </tr>\n",
       "    <tr>\n",
       "      <th>2</th>\n",
       "      <td>ReadWrite</td>\n",
       "      <td>Al Sefati</td>\n",
       "      <td>Unlocking Big Success: Harnessing the Power of...</td>\n",
       "      <td>In the dynamic world of search marketing, the ...</td>\n",
       "      <td>https://readwrite.com/unlocking-big-success-ha...</td>\n",
       "      <td>https://readwrite.com/wp-content/uploads/2023/...</td>\n",
       "    </tr>\n",
       "    <tr>\n",
       "      <th>3</th>\n",
       "      <td>Nullpt.rs</td>\n",
       "      <td>No author found</td>\n",
       "      <td>Evading JavaScript anti-debugging techniques</td>\n",
       "      <td>Debuggers serve as invaluable tools that empow...</td>\n",
       "      <td>https://www.nullpt.rs/evading-anti-debugging-t...</td>\n",
       "      <td>No image found</td>\n",
       "    </tr>\n",
       "    <tr>\n",
       "      <th>4</th>\n",
       "      <td>Android Central</td>\n",
       "      <td>tips@androidcentral.com (Nickolas Diaz)</td>\n",
       "      <td>Google redesigns its Arts &amp; Culture app with a...</td>\n",
       "      <td>Google launches its Arts &amp; Culture app redesig...</td>\n",
       "      <td>https://www.androidcentral.com/apps-software/g...</td>\n",
       "      <td>https://cdn.mos.cms.futurecdn.net/vy9wjipiWtnz...</td>\n",
       "    </tr>\n",
       "    <tr>\n",
       "      <th>...</th>\n",
       "      <td>...</td>\n",
       "      <td>...</td>\n",
       "      <td>...</td>\n",
       "      <td>...</td>\n",
       "      <td>...</td>\n",
       "      <td>...</td>\n",
       "    </tr>\n",
       "    <tr>\n",
       "      <th>95</th>\n",
       "      <td>Graphql.org</td>\n",
       "      <td>No author found</td>\n",
       "      <td>GraphQL Queries and Mutations</td>\n",
       "      <td>A query language for your API — GraphQL provid...</td>\n",
       "      <td>https://graphql.org/learn/queries/</td>\n",
       "      <td>https://graphql.org/img/og-image.png</td>\n",
       "    </tr>\n",
       "    <tr>\n",
       "      <th>96</th>\n",
       "      <td>Minimaxir.com</td>\n",
       "      <td>No author found</td>\n",
       "      <td>I Made Stable Diffusion XL Smarter by Finetuni...</td>\n",
       "      <td>And then telling it to not generate those images!</td>\n",
       "      <td>https://minimaxir.com/2023/08/stable-diffusion...</td>\n",
       "      <td>https://minimaxir.com/2023/08/stable-diffusion...</td>\n",
       "    </tr>\n",
       "    <tr>\n",
       "      <th>97</th>\n",
       "      <td>Semrush.com</td>\n",
       "      <td>No author found</td>\n",
       "      <td>Website Content Monitoring: Key Strategies for...</td>\n",
       "      <td>Learn how content monitoring can help you trac...</td>\n",
       "      <td>https://www.semrush.com/blog/content-monitoring/</td>\n",
       "      <td>https://static.semrush.com/blog/uploads/media/...</td>\n",
       "    </tr>\n",
       "    <tr>\n",
       "      <th>98</th>\n",
       "      <td>Thedataquarry.com</td>\n",
       "      <td>Prashanth Rao</td>\n",
       "      <td>Vector databases: analyzing the trade-offs</td>\n",
       "      <td>A deeper dive into some of the trade-offs invo...</td>\n",
       "      <td>https://thedataquarry.com/posts/vector-db-4/</td>\n",
       "      <td>No image found</td>\n",
       "    </tr>\n",
       "    <tr>\n",
       "      <th>99</th>\n",
       "      <td>Forbes</td>\n",
       "      <td>John Hall, Senior Contributor, \\n John Hall, S...</td>\n",
       "      <td>How To Leverage Growth Marketing To Boost Slow...</td>\n",
       "      <td>Worried about how a sales slump will impact yo...</td>\n",
       "      <td>https://www.forbes.com/sites/johnhall/2023/08/...</td>\n",
       "      <td>https://imageio.forbes.com/specials-images/ima...</td>\n",
       "    </tr>\n",
       "  </tbody>\n",
       "</table>\n",
       "<p>100 rows × 6 columns</p>\n",
       "</div>"
      ],
      "text/plain": [
       "               source                                             author  \\\n",
       "0            Engadget                                       Karissa Bell   \n",
       "1            Hackaday                                        Al Williams   \n",
       "2           ReadWrite                                          Al Sefati   \n",
       "3           Nullpt.rs                                    No author found   \n",
       "4     Android Central            tips@androidcentral.com (Nickolas Diaz)   \n",
       "..                ...                                                ...   \n",
       "95        Graphql.org                                    No author found   \n",
       "96      Minimaxir.com                                    No author found   \n",
       "97        Semrush.com                                    No author found   \n",
       "98  Thedataquarry.com                                      Prashanth Rao   \n",
       "99             Forbes  John Hall, Senior Contributor, \\n John Hall, S...   \n",
       "\n",
       "                                                title  \\\n",
       "0   X hopes ‘sensitivity settings’ will bring back...   \n",
       "1                     The AI Engine that Fits in 100K   \n",
       "2   Unlocking Big Success: Harnessing the Power of...   \n",
       "3        Evading JavaScript anti-debugging techniques   \n",
       "4   Google redesigns its Arts & Culture app with a...   \n",
       "..                                                ...   \n",
       "95                      GraphQL Queries and Mutations   \n",
       "96  I Made Stable Diffusion XL Smarter by Finetuni...   \n",
       "97  Website Content Monitoring: Key Strategies for...   \n",
       "98         Vector databases: analyzing the trade-offs   \n",
       "99  How To Leverage Growth Marketing To Boost Slow...   \n",
       "\n",
       "                                          description  \\\n",
       "0   X is giving advertisers new ways to have some ...   \n",
       "1   Running your own AI models is possible, but it...   \n",
       "2   In the dynamic world of search marketing, the ...   \n",
       "3   Debuggers serve as invaluable tools that empow...   \n",
       "4   Google launches its Arts & Culture app redesig...   \n",
       "..                                                ...   \n",
       "95  A query language for your API — GraphQL provid...   \n",
       "96  And then telling it to not generate those images!   \n",
       "97  Learn how content monitoring can help you trac...   \n",
       "98  A deeper dive into some of the trade-offs invo...   \n",
       "99  Worried about how a sales slump will impact yo...   \n",
       "\n",
       "                                                  url  \\\n",
       "0   https://www.engadget.com/x-hopes-sensitivity-s...   \n",
       "1   https://hackaday.com/2023/08/02/the-ai-engine-...   \n",
       "2   https://readwrite.com/unlocking-big-success-ha...   \n",
       "3   https://www.nullpt.rs/evading-anti-debugging-t...   \n",
       "4   https://www.androidcentral.com/apps-software/g...   \n",
       "..                                                ...   \n",
       "95                 https://graphql.org/learn/queries/   \n",
       "96  https://minimaxir.com/2023/08/stable-diffusion...   \n",
       "97   https://www.semrush.com/blog/content-monitoring/   \n",
       "98       https://thedataquarry.com/posts/vector-db-4/   \n",
       "99  https://www.forbes.com/sites/johnhall/2023/08/...   \n",
       "\n",
       "                                         url_to_image  \n",
       "0   https://s.yimg.com/uu/api/res/1.2/P2oxIvpENWHF...  \n",
       "1   https://hackaday.com/wp-content/uploads/2023/0...  \n",
       "2   https://readwrite.com/wp-content/uploads/2023/...  \n",
       "3                                      No image found  \n",
       "4   https://cdn.mos.cms.futurecdn.net/vy9wjipiWtnz...  \n",
       "..                                                ...  \n",
       "95               https://graphql.org/img/og-image.png  \n",
       "96  https://minimaxir.com/2023/08/stable-diffusion...  \n",
       "97  https://static.semrush.com/blog/uploads/media/...  \n",
       "98                                     No image found  \n",
       "99  https://imageio.forbes.com/specials-images/ima...  \n",
       "\n",
       "[100 rows x 6 columns]"
      ]
     },
     "execution_count": 13,
     "metadata": {},
     "output_type": "execute_result"
    }
   ],
   "source": [
    "df.url_to_image = df['url_to_image'].fillna('No image found')\n",
    "df\n"
   ]
  },
  {
   "cell_type": "code",
   "execution_count": 25,
   "metadata": {},
   "outputs": [
    {
     "data": {
      "application/vnd.plotly.v1+json": {
       "config": {
        "plotlyServerURL": "https://plot.ly"
       },
       "data": [
        {
         "alignmentgroup": "True",
         "bingroup": "x",
         "hovertemplate": "source=%{x}<br>count=%{y}<extra></extra>",
         "legendgroup": "",
         "marker": {
          "color": "#636efa",
          "pattern": {
           "shape": ""
          }
         },
         "name": "",
         "offsetgroup": "",
         "orientation": "v",
         "showlegend": false,
         "type": "histogram",
         "x": [
          "Engadget",
          "Hackaday",
          "ReadWrite",
          "Nullpt.rs",
          "Android Central",
          "Android Central",
          "Small Business Trends",
          "ReadWrite",
          "Forbes",
          "Moz.com",
          "Small Business Trends",
          "Android Central",
          "Android Central",
          "Gizmodo.jp",
          "Github.com",
          "Quicksprout.com",
          "Quicksprout.com",
          "Quicksprout.com",
          "ReadWrite",
          "ReadWrite",
          "Quicksprout.com",
          "Search Engine Journal",
          "Wwwhatsnew.com",
          "Bitecode.dev",
          "MakeUseOf",
          "Search Engine Journal",
          "Quicksprout.com",
          "Boing Boing",
          "MakeUseOf",
          "Search Engine Journal",
          "Search Engine Journal",
          "Moz.com",
          "Adamj.eu",
          "Briansmith.org",
          "Moz.com",
          "Idownloadblog.com",
          "Tinloof.com",
          "Yanko Design",
          "Thedailywtf.com",
          "Pybit.es",
          "ReadWrite",
          "Search Engine Journal",
          "Search Engine Journal",
          "Iphoneblog.de",
          "Lighton.ai",
          "Quicksprout.com",
          "PC Gamer",
          "Semrush.com",
          "Grahamhelton.com",
          "Genbeta.com",
          "Android Police",
          "Techdirt",
          "Search Engine Journal",
          "Digital Trends",
          "Quicksprout.com",
          "Quicksprout.com",
          "Small Business Trends",
          "Hootsuite.com",
          "Yahoo Entertainment",
          "Search Engine Journal",
          "Search Engine Journal",
          "Livedoor.biz",
          "Smashingmagazine.com",
          "AppleInsider",
          "Fox News",
          "Markezine.jp",
          "Quicksprout.com",
          "Korban.net",
          "Hubspot.com",
          "Search Engine Journal",
          "XDA Developers",
          "Hubspot.com",
          "Osxdaily.com",
          "iphone-ticker.de › iPhone-News seit 2007",
          "MakeUseOf",
          "Digital Trends",
          "Quicksprout.com",
          "Phrack.org",
          "Github.com",
          "Mitmproxy.org",
          "Brown.edu",
          "Noupe.com",
          "Quicksprout.com",
          "MakeUseOf",
          "MakeUseOf",
          "Search Engine Journal",
          "Search Engine Journal",
          "Abondance.com",
          "Stackoverflow.blog",
          "Semrush.com",
          "Deutsche-startups.de",
          "Dzone.com",
          "Xataka Android",
          "Github.io",
          "Thecodedmessage.com",
          "Graphql.org",
          "Minimaxir.com",
          "Semrush.com",
          "Thedataquarry.com",
          "Forbes"
         ],
         "xaxis": "x",
         "yaxis": "y"
        }
       ],
       "layout": {
        "barmode": "relative",
        "legend": {
         "tracegroupgap": 0
        },
        "margin": {
         "t": 60
        },
        "template": {
         "data": {
          "bar": [
           {
            "error_x": {
             "color": "#2a3f5f"
            },
            "error_y": {
             "color": "#2a3f5f"
            },
            "marker": {
             "line": {
              "color": "#E5ECF6",
              "width": 0.5
             },
             "pattern": {
              "fillmode": "overlay",
              "size": 10,
              "solidity": 0.2
             }
            },
            "type": "bar"
           }
          ],
          "barpolar": [
           {
            "marker": {
             "line": {
              "color": "#E5ECF6",
              "width": 0.5
             },
             "pattern": {
              "fillmode": "overlay",
              "size": 10,
              "solidity": 0.2
             }
            },
            "type": "barpolar"
           }
          ],
          "carpet": [
           {
            "aaxis": {
             "endlinecolor": "#2a3f5f",
             "gridcolor": "white",
             "linecolor": "white",
             "minorgridcolor": "white",
             "startlinecolor": "#2a3f5f"
            },
            "baxis": {
             "endlinecolor": "#2a3f5f",
             "gridcolor": "white",
             "linecolor": "white",
             "minorgridcolor": "white",
             "startlinecolor": "#2a3f5f"
            },
            "type": "carpet"
           }
          ],
          "choropleth": [
           {
            "colorbar": {
             "outlinewidth": 0,
             "ticks": ""
            },
            "type": "choropleth"
           }
          ],
          "contour": [
           {
            "colorbar": {
             "outlinewidth": 0,
             "ticks": ""
            },
            "colorscale": [
             [
              0,
              "#0d0887"
             ],
             [
              0.1111111111111111,
              "#46039f"
             ],
             [
              0.2222222222222222,
              "#7201a8"
             ],
             [
              0.3333333333333333,
              "#9c179e"
             ],
             [
              0.4444444444444444,
              "#bd3786"
             ],
             [
              0.5555555555555556,
              "#d8576b"
             ],
             [
              0.6666666666666666,
              "#ed7953"
             ],
             [
              0.7777777777777778,
              "#fb9f3a"
             ],
             [
              0.8888888888888888,
              "#fdca26"
             ],
             [
              1,
              "#f0f921"
             ]
            ],
            "type": "contour"
           }
          ],
          "contourcarpet": [
           {
            "colorbar": {
             "outlinewidth": 0,
             "ticks": ""
            },
            "type": "contourcarpet"
           }
          ],
          "heatmap": [
           {
            "colorbar": {
             "outlinewidth": 0,
             "ticks": ""
            },
            "colorscale": [
             [
              0,
              "#0d0887"
             ],
             [
              0.1111111111111111,
              "#46039f"
             ],
             [
              0.2222222222222222,
              "#7201a8"
             ],
             [
              0.3333333333333333,
              "#9c179e"
             ],
             [
              0.4444444444444444,
              "#bd3786"
             ],
             [
              0.5555555555555556,
              "#d8576b"
             ],
             [
              0.6666666666666666,
              "#ed7953"
             ],
             [
              0.7777777777777778,
              "#fb9f3a"
             ],
             [
              0.8888888888888888,
              "#fdca26"
             ],
             [
              1,
              "#f0f921"
             ]
            ],
            "type": "heatmap"
           }
          ],
          "heatmapgl": [
           {
            "colorbar": {
             "outlinewidth": 0,
             "ticks": ""
            },
            "colorscale": [
             [
              0,
              "#0d0887"
             ],
             [
              0.1111111111111111,
              "#46039f"
             ],
             [
              0.2222222222222222,
              "#7201a8"
             ],
             [
              0.3333333333333333,
              "#9c179e"
             ],
             [
              0.4444444444444444,
              "#bd3786"
             ],
             [
              0.5555555555555556,
              "#d8576b"
             ],
             [
              0.6666666666666666,
              "#ed7953"
             ],
             [
              0.7777777777777778,
              "#fb9f3a"
             ],
             [
              0.8888888888888888,
              "#fdca26"
             ],
             [
              1,
              "#f0f921"
             ]
            ],
            "type": "heatmapgl"
           }
          ],
          "histogram": [
           {
            "marker": {
             "pattern": {
              "fillmode": "overlay",
              "size": 10,
              "solidity": 0.2
             }
            },
            "type": "histogram"
           }
          ],
          "histogram2d": [
           {
            "colorbar": {
             "outlinewidth": 0,
             "ticks": ""
            },
            "colorscale": [
             [
              0,
              "#0d0887"
             ],
             [
              0.1111111111111111,
              "#46039f"
             ],
             [
              0.2222222222222222,
              "#7201a8"
             ],
             [
              0.3333333333333333,
              "#9c179e"
             ],
             [
              0.4444444444444444,
              "#bd3786"
             ],
             [
              0.5555555555555556,
              "#d8576b"
             ],
             [
              0.6666666666666666,
              "#ed7953"
             ],
             [
              0.7777777777777778,
              "#fb9f3a"
             ],
             [
              0.8888888888888888,
              "#fdca26"
             ],
             [
              1,
              "#f0f921"
             ]
            ],
            "type": "histogram2d"
           }
          ],
          "histogram2dcontour": [
           {
            "colorbar": {
             "outlinewidth": 0,
             "ticks": ""
            },
            "colorscale": [
             [
              0,
              "#0d0887"
             ],
             [
              0.1111111111111111,
              "#46039f"
             ],
             [
              0.2222222222222222,
              "#7201a8"
             ],
             [
              0.3333333333333333,
              "#9c179e"
             ],
             [
              0.4444444444444444,
              "#bd3786"
             ],
             [
              0.5555555555555556,
              "#d8576b"
             ],
             [
              0.6666666666666666,
              "#ed7953"
             ],
             [
              0.7777777777777778,
              "#fb9f3a"
             ],
             [
              0.8888888888888888,
              "#fdca26"
             ],
             [
              1,
              "#f0f921"
             ]
            ],
            "type": "histogram2dcontour"
           }
          ],
          "mesh3d": [
           {
            "colorbar": {
             "outlinewidth": 0,
             "ticks": ""
            },
            "type": "mesh3d"
           }
          ],
          "parcoords": [
           {
            "line": {
             "colorbar": {
              "outlinewidth": 0,
              "ticks": ""
             }
            },
            "type": "parcoords"
           }
          ],
          "pie": [
           {
            "automargin": true,
            "type": "pie"
           }
          ],
          "scatter": [
           {
            "fillpattern": {
             "fillmode": "overlay",
             "size": 10,
             "solidity": 0.2
            },
            "type": "scatter"
           }
          ],
          "scatter3d": [
           {
            "line": {
             "colorbar": {
              "outlinewidth": 0,
              "ticks": ""
             }
            },
            "marker": {
             "colorbar": {
              "outlinewidth": 0,
              "ticks": ""
             }
            },
            "type": "scatter3d"
           }
          ],
          "scattercarpet": [
           {
            "marker": {
             "colorbar": {
              "outlinewidth": 0,
              "ticks": ""
             }
            },
            "type": "scattercarpet"
           }
          ],
          "scattergeo": [
           {
            "marker": {
             "colorbar": {
              "outlinewidth": 0,
              "ticks": ""
             }
            },
            "type": "scattergeo"
           }
          ],
          "scattergl": [
           {
            "marker": {
             "colorbar": {
              "outlinewidth": 0,
              "ticks": ""
             }
            },
            "type": "scattergl"
           }
          ],
          "scattermapbox": [
           {
            "marker": {
             "colorbar": {
              "outlinewidth": 0,
              "ticks": ""
             }
            },
            "type": "scattermapbox"
           }
          ],
          "scatterpolar": [
           {
            "marker": {
             "colorbar": {
              "outlinewidth": 0,
              "ticks": ""
             }
            },
            "type": "scatterpolar"
           }
          ],
          "scatterpolargl": [
           {
            "marker": {
             "colorbar": {
              "outlinewidth": 0,
              "ticks": ""
             }
            },
            "type": "scatterpolargl"
           }
          ],
          "scatterternary": [
           {
            "marker": {
             "colorbar": {
              "outlinewidth": 0,
              "ticks": ""
             }
            },
            "type": "scatterternary"
           }
          ],
          "surface": [
           {
            "colorbar": {
             "outlinewidth": 0,
             "ticks": ""
            },
            "colorscale": [
             [
              0,
              "#0d0887"
             ],
             [
              0.1111111111111111,
              "#46039f"
             ],
             [
              0.2222222222222222,
              "#7201a8"
             ],
             [
              0.3333333333333333,
              "#9c179e"
             ],
             [
              0.4444444444444444,
              "#bd3786"
             ],
             [
              0.5555555555555556,
              "#d8576b"
             ],
             [
              0.6666666666666666,
              "#ed7953"
             ],
             [
              0.7777777777777778,
              "#fb9f3a"
             ],
             [
              0.8888888888888888,
              "#fdca26"
             ],
             [
              1,
              "#f0f921"
             ]
            ],
            "type": "surface"
           }
          ],
          "table": [
           {
            "cells": {
             "fill": {
              "color": "#EBF0F8"
             },
             "line": {
              "color": "white"
             }
            },
            "header": {
             "fill": {
              "color": "#C8D4E3"
             },
             "line": {
              "color": "white"
             }
            },
            "type": "table"
           }
          ]
         },
         "layout": {
          "annotationdefaults": {
           "arrowcolor": "#2a3f5f",
           "arrowhead": 0,
           "arrowwidth": 1
          },
          "autotypenumbers": "strict",
          "coloraxis": {
           "colorbar": {
            "outlinewidth": 0,
            "ticks": ""
           }
          },
          "colorscale": {
           "diverging": [
            [
             0,
             "#8e0152"
            ],
            [
             0.1,
             "#c51b7d"
            ],
            [
             0.2,
             "#de77ae"
            ],
            [
             0.3,
             "#f1b6da"
            ],
            [
             0.4,
             "#fde0ef"
            ],
            [
             0.5,
             "#f7f7f7"
            ],
            [
             0.6,
             "#e6f5d0"
            ],
            [
             0.7,
             "#b8e186"
            ],
            [
             0.8,
             "#7fbc41"
            ],
            [
             0.9,
             "#4d9221"
            ],
            [
             1,
             "#276419"
            ]
           ],
           "sequential": [
            [
             0,
             "#0d0887"
            ],
            [
             0.1111111111111111,
             "#46039f"
            ],
            [
             0.2222222222222222,
             "#7201a8"
            ],
            [
             0.3333333333333333,
             "#9c179e"
            ],
            [
             0.4444444444444444,
             "#bd3786"
            ],
            [
             0.5555555555555556,
             "#d8576b"
            ],
            [
             0.6666666666666666,
             "#ed7953"
            ],
            [
             0.7777777777777778,
             "#fb9f3a"
            ],
            [
             0.8888888888888888,
             "#fdca26"
            ],
            [
             1,
             "#f0f921"
            ]
           ],
           "sequentialminus": [
            [
             0,
             "#0d0887"
            ],
            [
             0.1111111111111111,
             "#46039f"
            ],
            [
             0.2222222222222222,
             "#7201a8"
            ],
            [
             0.3333333333333333,
             "#9c179e"
            ],
            [
             0.4444444444444444,
             "#bd3786"
            ],
            [
             0.5555555555555556,
             "#d8576b"
            ],
            [
             0.6666666666666666,
             "#ed7953"
            ],
            [
             0.7777777777777778,
             "#fb9f3a"
            ],
            [
             0.8888888888888888,
             "#fdca26"
            ],
            [
             1,
             "#f0f921"
            ]
           ]
          },
          "colorway": [
           "#636efa",
           "#EF553B",
           "#00cc96",
           "#ab63fa",
           "#FFA15A",
           "#19d3f3",
           "#FF6692",
           "#B6E880",
           "#FF97FF",
           "#FECB52"
          ],
          "font": {
           "color": "#2a3f5f"
          },
          "geo": {
           "bgcolor": "white",
           "lakecolor": "white",
           "landcolor": "#E5ECF6",
           "showlakes": true,
           "showland": true,
           "subunitcolor": "white"
          },
          "hoverlabel": {
           "align": "left"
          },
          "hovermode": "closest",
          "mapbox": {
           "style": "light"
          },
          "paper_bgcolor": "white",
          "plot_bgcolor": "#E5ECF6",
          "polar": {
           "angularaxis": {
            "gridcolor": "white",
            "linecolor": "white",
            "ticks": ""
           },
           "bgcolor": "#E5ECF6",
           "radialaxis": {
            "gridcolor": "white",
            "linecolor": "white",
            "ticks": ""
           }
          },
          "scene": {
           "xaxis": {
            "backgroundcolor": "#E5ECF6",
            "gridcolor": "white",
            "gridwidth": 2,
            "linecolor": "white",
            "showbackground": true,
            "ticks": "",
            "zerolinecolor": "white"
           },
           "yaxis": {
            "backgroundcolor": "#E5ECF6",
            "gridcolor": "white",
            "gridwidth": 2,
            "linecolor": "white",
            "showbackground": true,
            "ticks": "",
            "zerolinecolor": "white"
           },
           "zaxis": {
            "backgroundcolor": "#E5ECF6",
            "gridcolor": "white",
            "gridwidth": 2,
            "linecolor": "white",
            "showbackground": true,
            "ticks": "",
            "zerolinecolor": "white"
           }
          },
          "shapedefaults": {
           "line": {
            "color": "#2a3f5f"
           }
          },
          "ternary": {
           "aaxis": {
            "gridcolor": "white",
            "linecolor": "white",
            "ticks": ""
           },
           "baxis": {
            "gridcolor": "white",
            "linecolor": "white",
            "ticks": ""
           },
           "bgcolor": "#E5ECF6",
           "caxis": {
            "gridcolor": "white",
            "linecolor": "white",
            "ticks": ""
           }
          },
          "title": {
           "x": 0.05
          },
          "xaxis": {
           "automargin": true,
           "gridcolor": "white",
           "linecolor": "white",
           "ticks": "",
           "title": {
            "standoff": 15
           },
           "zerolinecolor": "white",
           "zerolinewidth": 2
          },
          "yaxis": {
           "automargin": true,
           "gridcolor": "white",
           "linecolor": "white",
           "ticks": "",
           "title": {
            "standoff": 15
           },
           "zerolinecolor": "white",
           "zerolinewidth": 2
          }
         }
        },
        "xaxis": {
         "anchor": "y",
         "domain": [
          0,
          1
         ],
         "title": {
          "text": "source"
         }
        },
        "yaxis": {
         "anchor": "x",
         "domain": [
          0,
          1
         ],
         "title": {
          "text": "count"
         }
        }
       }
      }
     },
     "metadata": {},
     "output_type": "display_data"
    }
   ],
   "source": [
    "px.histogram(df, 'source')"
   ]
  },
  {
   "cell_type": "code",
   "execution_count": 26,
   "metadata": {},
   "outputs": [
    {
     "data": {
      "application/vnd.plotly.v1+json": {
       "config": {
        "plotlyServerURL": "https://plot.ly"
       },
       "data": [
        {
         "alignmentgroup": "True",
         "bingroup": "x",
         "hovertemplate": "author=%{x}<br>count=%{y}<extra></extra>",
         "legendgroup": "",
         "marker": {
          "color": "#636efa",
          "pattern": {
           "shape": ""
          }
         },
         "name": "",
         "offsetgroup": "",
         "orientation": "v",
         "showlegend": false,
         "type": "histogram",
         "x": [
          "Karissa Bell",
          "Al Williams",
          "Al Sefati",
          "No author found",
          "tips@androidcentral.com (Nickolas Diaz)",
          "tips@androidcentral.com (Nickolas Diaz)",
          "Shubhomita Bose",
          "Nate Nead",
          "YEC, Forbes Councils Member, \n YEC, Forbes Councils Member\n https://www.forbes.com/sites/theyec/",
          "Rejoice Ojiaku",
          "Small Business Editor",
          "tips@androidcentral.com (Nickolas Diaz)",
          "tips@androidcentral.com (Nickolas Diaz)",
          "ヨコヤマコム",
          "TodePond",
          "Quick Sprout",
          "Lars Lofgren",
          "Quick Sprout Editorial",
          "Nate Nead",
          "Erik Emanuelli",
          "Quick Sprout",
          "Roger Montti",
          "Juan Diego Polo",
          "Bite Code!",
          "Idowu Omisola",
          "Kevin Rowe",
          "Quick Sprout",
          "Mark Frauenfelder",
          "Sahil Kapoor",
          "Adam Heitzman",
          "Brooke Osmundson",
          "Jon Earnshaw",
          "No author found",
          "No author found",
          "Meghan Pahinui",
          "Christian Zibreg",
          "Omar Benseddik",
          "Ida Torres",
          "Remy Porter",
          "",
          "Vikas Kaushik",
          "Greg Jarboe",
          "Annabelle Nyst",
          "Alex Olma",
          "No author found",
          "Lars Lofgren",
          "Phil Savage",
          "No author found",
          "No author found",
          "Marcos Merino",
          "Manuel Vonau",
          "Gretchen Heckmann",
          "Brooke Osmundson",
          "Nadeem Sarwar",
          "Quick Sprout Editorial",
          "Quick Sprout",
          "Lisa Price",
          "Colleen Christison",
          "Brian Sozzi",
          "Kristi Hines",
          "Kristi Hines",
          "pikotin",
          "hello@smashingmagazine.com (Mike Herchel)",
          "news@appleinsider.com (William Gallagher)",
          "Kurt Knutsson, CyberGuy Report",
          "No author found",
          "Quick Sprout",
          "No author found",
          "Caroline Forsey",
          "Adriana Stein",
          "Timi Cantisano",
          "Erin Rodrigue",
          "Jamie Cuevas",
          "Nicolas",
          "Ruby Helyer",
          "Tomas Franzese",
          "Quick Sprout",
          "No author found",
          "reflex-dev",
          "No author found",
          "",
          "Alexey Chychyrko",
          "Quick Sprout",
          "Teodor Constantin Nechita",
          "Aman Kumar",
          "Kristi Hines",
          "Matt G. Southern",
          "Johan Sellitto",
          "David Haney and David Gibson",
          "No author found",
          "Team",
          "Saba Qureshi",
          "Pepu Ricca",
          "No author found",
          "No author found",
          "No author found",
          "No author found",
          "No author found",
          "Prashanth Rao",
          "John Hall, Senior Contributor, \n John Hall, Senior Contributor\n https://www.forbes.com/sites/johnhall/"
         ],
         "xaxis": "x",
         "yaxis": "y"
        }
       ],
       "layout": {
        "barmode": "relative",
        "legend": {
         "tracegroupgap": 0
        },
        "margin": {
         "t": 60
        },
        "template": {
         "data": {
          "bar": [
           {
            "error_x": {
             "color": "#2a3f5f"
            },
            "error_y": {
             "color": "#2a3f5f"
            },
            "marker": {
             "line": {
              "color": "#E5ECF6",
              "width": 0.5
             },
             "pattern": {
              "fillmode": "overlay",
              "size": 10,
              "solidity": 0.2
             }
            },
            "type": "bar"
           }
          ],
          "barpolar": [
           {
            "marker": {
             "line": {
              "color": "#E5ECF6",
              "width": 0.5
             },
             "pattern": {
              "fillmode": "overlay",
              "size": 10,
              "solidity": 0.2
             }
            },
            "type": "barpolar"
           }
          ],
          "carpet": [
           {
            "aaxis": {
             "endlinecolor": "#2a3f5f",
             "gridcolor": "white",
             "linecolor": "white",
             "minorgridcolor": "white",
             "startlinecolor": "#2a3f5f"
            },
            "baxis": {
             "endlinecolor": "#2a3f5f",
             "gridcolor": "white",
             "linecolor": "white",
             "minorgridcolor": "white",
             "startlinecolor": "#2a3f5f"
            },
            "type": "carpet"
           }
          ],
          "choropleth": [
           {
            "colorbar": {
             "outlinewidth": 0,
             "ticks": ""
            },
            "type": "choropleth"
           }
          ],
          "contour": [
           {
            "colorbar": {
             "outlinewidth": 0,
             "ticks": ""
            },
            "colorscale": [
             [
              0,
              "#0d0887"
             ],
             [
              0.1111111111111111,
              "#46039f"
             ],
             [
              0.2222222222222222,
              "#7201a8"
             ],
             [
              0.3333333333333333,
              "#9c179e"
             ],
             [
              0.4444444444444444,
              "#bd3786"
             ],
             [
              0.5555555555555556,
              "#d8576b"
             ],
             [
              0.6666666666666666,
              "#ed7953"
             ],
             [
              0.7777777777777778,
              "#fb9f3a"
             ],
             [
              0.8888888888888888,
              "#fdca26"
             ],
             [
              1,
              "#f0f921"
             ]
            ],
            "type": "contour"
           }
          ],
          "contourcarpet": [
           {
            "colorbar": {
             "outlinewidth": 0,
             "ticks": ""
            },
            "type": "contourcarpet"
           }
          ],
          "heatmap": [
           {
            "colorbar": {
             "outlinewidth": 0,
             "ticks": ""
            },
            "colorscale": [
             [
              0,
              "#0d0887"
             ],
             [
              0.1111111111111111,
              "#46039f"
             ],
             [
              0.2222222222222222,
              "#7201a8"
             ],
             [
              0.3333333333333333,
              "#9c179e"
             ],
             [
              0.4444444444444444,
              "#bd3786"
             ],
             [
              0.5555555555555556,
              "#d8576b"
             ],
             [
              0.6666666666666666,
              "#ed7953"
             ],
             [
              0.7777777777777778,
              "#fb9f3a"
             ],
             [
              0.8888888888888888,
              "#fdca26"
             ],
             [
              1,
              "#f0f921"
             ]
            ],
            "type": "heatmap"
           }
          ],
          "heatmapgl": [
           {
            "colorbar": {
             "outlinewidth": 0,
             "ticks": ""
            },
            "colorscale": [
             [
              0,
              "#0d0887"
             ],
             [
              0.1111111111111111,
              "#46039f"
             ],
             [
              0.2222222222222222,
              "#7201a8"
             ],
             [
              0.3333333333333333,
              "#9c179e"
             ],
             [
              0.4444444444444444,
              "#bd3786"
             ],
             [
              0.5555555555555556,
              "#d8576b"
             ],
             [
              0.6666666666666666,
              "#ed7953"
             ],
             [
              0.7777777777777778,
              "#fb9f3a"
             ],
             [
              0.8888888888888888,
              "#fdca26"
             ],
             [
              1,
              "#f0f921"
             ]
            ],
            "type": "heatmapgl"
           }
          ],
          "histogram": [
           {
            "marker": {
             "pattern": {
              "fillmode": "overlay",
              "size": 10,
              "solidity": 0.2
             }
            },
            "type": "histogram"
           }
          ],
          "histogram2d": [
           {
            "colorbar": {
             "outlinewidth": 0,
             "ticks": ""
            },
            "colorscale": [
             [
              0,
              "#0d0887"
             ],
             [
              0.1111111111111111,
              "#46039f"
             ],
             [
              0.2222222222222222,
              "#7201a8"
             ],
             [
              0.3333333333333333,
              "#9c179e"
             ],
             [
              0.4444444444444444,
              "#bd3786"
             ],
             [
              0.5555555555555556,
              "#d8576b"
             ],
             [
              0.6666666666666666,
              "#ed7953"
             ],
             [
              0.7777777777777778,
              "#fb9f3a"
             ],
             [
              0.8888888888888888,
              "#fdca26"
             ],
             [
              1,
              "#f0f921"
             ]
            ],
            "type": "histogram2d"
           }
          ],
          "histogram2dcontour": [
           {
            "colorbar": {
             "outlinewidth": 0,
             "ticks": ""
            },
            "colorscale": [
             [
              0,
              "#0d0887"
             ],
             [
              0.1111111111111111,
              "#46039f"
             ],
             [
              0.2222222222222222,
              "#7201a8"
             ],
             [
              0.3333333333333333,
              "#9c179e"
             ],
             [
              0.4444444444444444,
              "#bd3786"
             ],
             [
              0.5555555555555556,
              "#d8576b"
             ],
             [
              0.6666666666666666,
              "#ed7953"
             ],
             [
              0.7777777777777778,
              "#fb9f3a"
             ],
             [
              0.8888888888888888,
              "#fdca26"
             ],
             [
              1,
              "#f0f921"
             ]
            ],
            "type": "histogram2dcontour"
           }
          ],
          "mesh3d": [
           {
            "colorbar": {
             "outlinewidth": 0,
             "ticks": ""
            },
            "type": "mesh3d"
           }
          ],
          "parcoords": [
           {
            "line": {
             "colorbar": {
              "outlinewidth": 0,
              "ticks": ""
             }
            },
            "type": "parcoords"
           }
          ],
          "pie": [
           {
            "automargin": true,
            "type": "pie"
           }
          ],
          "scatter": [
           {
            "fillpattern": {
             "fillmode": "overlay",
             "size": 10,
             "solidity": 0.2
            },
            "type": "scatter"
           }
          ],
          "scatter3d": [
           {
            "line": {
             "colorbar": {
              "outlinewidth": 0,
              "ticks": ""
             }
            },
            "marker": {
             "colorbar": {
              "outlinewidth": 0,
              "ticks": ""
             }
            },
            "type": "scatter3d"
           }
          ],
          "scattercarpet": [
           {
            "marker": {
             "colorbar": {
              "outlinewidth": 0,
              "ticks": ""
             }
            },
            "type": "scattercarpet"
           }
          ],
          "scattergeo": [
           {
            "marker": {
             "colorbar": {
              "outlinewidth": 0,
              "ticks": ""
             }
            },
            "type": "scattergeo"
           }
          ],
          "scattergl": [
           {
            "marker": {
             "colorbar": {
              "outlinewidth": 0,
              "ticks": ""
             }
            },
            "type": "scattergl"
           }
          ],
          "scattermapbox": [
           {
            "marker": {
             "colorbar": {
              "outlinewidth": 0,
              "ticks": ""
             }
            },
            "type": "scattermapbox"
           }
          ],
          "scatterpolar": [
           {
            "marker": {
             "colorbar": {
              "outlinewidth": 0,
              "ticks": ""
             }
            },
            "type": "scatterpolar"
           }
          ],
          "scatterpolargl": [
           {
            "marker": {
             "colorbar": {
              "outlinewidth": 0,
              "ticks": ""
             }
            },
            "type": "scatterpolargl"
           }
          ],
          "scatterternary": [
           {
            "marker": {
             "colorbar": {
              "outlinewidth": 0,
              "ticks": ""
             }
            },
            "type": "scatterternary"
           }
          ],
          "surface": [
           {
            "colorbar": {
             "outlinewidth": 0,
             "ticks": ""
            },
            "colorscale": [
             [
              0,
              "#0d0887"
             ],
             [
              0.1111111111111111,
              "#46039f"
             ],
             [
              0.2222222222222222,
              "#7201a8"
             ],
             [
              0.3333333333333333,
              "#9c179e"
             ],
             [
              0.4444444444444444,
              "#bd3786"
             ],
             [
              0.5555555555555556,
              "#d8576b"
             ],
             [
              0.6666666666666666,
              "#ed7953"
             ],
             [
              0.7777777777777778,
              "#fb9f3a"
             ],
             [
              0.8888888888888888,
              "#fdca26"
             ],
             [
              1,
              "#f0f921"
             ]
            ],
            "type": "surface"
           }
          ],
          "table": [
           {
            "cells": {
             "fill": {
              "color": "#EBF0F8"
             },
             "line": {
              "color": "white"
             }
            },
            "header": {
             "fill": {
              "color": "#C8D4E3"
             },
             "line": {
              "color": "white"
             }
            },
            "type": "table"
           }
          ]
         },
         "layout": {
          "annotationdefaults": {
           "arrowcolor": "#2a3f5f",
           "arrowhead": 0,
           "arrowwidth": 1
          },
          "autotypenumbers": "strict",
          "coloraxis": {
           "colorbar": {
            "outlinewidth": 0,
            "ticks": ""
           }
          },
          "colorscale": {
           "diverging": [
            [
             0,
             "#8e0152"
            ],
            [
             0.1,
             "#c51b7d"
            ],
            [
             0.2,
             "#de77ae"
            ],
            [
             0.3,
             "#f1b6da"
            ],
            [
             0.4,
             "#fde0ef"
            ],
            [
             0.5,
             "#f7f7f7"
            ],
            [
             0.6,
             "#e6f5d0"
            ],
            [
             0.7,
             "#b8e186"
            ],
            [
             0.8,
             "#7fbc41"
            ],
            [
             0.9,
             "#4d9221"
            ],
            [
             1,
             "#276419"
            ]
           ],
           "sequential": [
            [
             0,
             "#0d0887"
            ],
            [
             0.1111111111111111,
             "#46039f"
            ],
            [
             0.2222222222222222,
             "#7201a8"
            ],
            [
             0.3333333333333333,
             "#9c179e"
            ],
            [
             0.4444444444444444,
             "#bd3786"
            ],
            [
             0.5555555555555556,
             "#d8576b"
            ],
            [
             0.6666666666666666,
             "#ed7953"
            ],
            [
             0.7777777777777778,
             "#fb9f3a"
            ],
            [
             0.8888888888888888,
             "#fdca26"
            ],
            [
             1,
             "#f0f921"
            ]
           ],
           "sequentialminus": [
            [
             0,
             "#0d0887"
            ],
            [
             0.1111111111111111,
             "#46039f"
            ],
            [
             0.2222222222222222,
             "#7201a8"
            ],
            [
             0.3333333333333333,
             "#9c179e"
            ],
            [
             0.4444444444444444,
             "#bd3786"
            ],
            [
             0.5555555555555556,
             "#d8576b"
            ],
            [
             0.6666666666666666,
             "#ed7953"
            ],
            [
             0.7777777777777778,
             "#fb9f3a"
            ],
            [
             0.8888888888888888,
             "#fdca26"
            ],
            [
             1,
             "#f0f921"
            ]
           ]
          },
          "colorway": [
           "#636efa",
           "#EF553B",
           "#00cc96",
           "#ab63fa",
           "#FFA15A",
           "#19d3f3",
           "#FF6692",
           "#B6E880",
           "#FF97FF",
           "#FECB52"
          ],
          "font": {
           "color": "#2a3f5f"
          },
          "geo": {
           "bgcolor": "white",
           "lakecolor": "white",
           "landcolor": "#E5ECF6",
           "showlakes": true,
           "showland": true,
           "subunitcolor": "white"
          },
          "hoverlabel": {
           "align": "left"
          },
          "hovermode": "closest",
          "mapbox": {
           "style": "light"
          },
          "paper_bgcolor": "white",
          "plot_bgcolor": "#E5ECF6",
          "polar": {
           "angularaxis": {
            "gridcolor": "white",
            "linecolor": "white",
            "ticks": ""
           },
           "bgcolor": "#E5ECF6",
           "radialaxis": {
            "gridcolor": "white",
            "linecolor": "white",
            "ticks": ""
           }
          },
          "scene": {
           "xaxis": {
            "backgroundcolor": "#E5ECF6",
            "gridcolor": "white",
            "gridwidth": 2,
            "linecolor": "white",
            "showbackground": true,
            "ticks": "",
            "zerolinecolor": "white"
           },
           "yaxis": {
            "backgroundcolor": "#E5ECF6",
            "gridcolor": "white",
            "gridwidth": 2,
            "linecolor": "white",
            "showbackground": true,
            "ticks": "",
            "zerolinecolor": "white"
           },
           "zaxis": {
            "backgroundcolor": "#E5ECF6",
            "gridcolor": "white",
            "gridwidth": 2,
            "linecolor": "white",
            "showbackground": true,
            "ticks": "",
            "zerolinecolor": "white"
           }
          },
          "shapedefaults": {
           "line": {
            "color": "#2a3f5f"
           }
          },
          "ternary": {
           "aaxis": {
            "gridcolor": "white",
            "linecolor": "white",
            "ticks": ""
           },
           "baxis": {
            "gridcolor": "white",
            "linecolor": "white",
            "ticks": ""
           },
           "bgcolor": "#E5ECF6",
           "caxis": {
            "gridcolor": "white",
            "linecolor": "white",
            "ticks": ""
           }
          },
          "title": {
           "x": 0.05
          },
          "xaxis": {
           "automargin": true,
           "gridcolor": "white",
           "linecolor": "white",
           "ticks": "",
           "title": {
            "standoff": 15
           },
           "zerolinecolor": "white",
           "zerolinewidth": 2
          },
          "yaxis": {
           "automargin": true,
           "gridcolor": "white",
           "linecolor": "white",
           "ticks": "",
           "title": {
            "standoff": 15
           },
           "zerolinecolor": "white",
           "zerolinewidth": 2
          }
         }
        },
        "xaxis": {
         "anchor": "y",
         "domain": [
          0,
          1
         ],
         "title": {
          "text": "author"
         }
        },
        "yaxis": {
         "anchor": "x",
         "domain": [
          0,
          1
         ],
         "title": {
          "text": "count"
         }
        }
       }
      }
     },
     "metadata": {},
     "output_type": "display_data"
    }
   ],
   "source": [
    "px.histogram(df, 'author')"
   ]
  },
  {
   "cell_type": "code",
   "execution_count": null,
   "metadata": {},
   "outputs": [],
   "source": []
  },
  {
   "cell_type": "code",
   "execution_count": 22,
   "metadata": {},
   "outputs": [],
   "source": [
    "columns = ['url_to_image', 'title', 'description', 'url']\n",
    "df1 = df.drop(columns=columns,axis=1)\n",
    "df1.to_csv(\"national_news_broadcast_graph.csv\", index=False)"
   ]
  }
 ],
 "metadata": {
  "kernelspec": {
   "display_name": "Python 3",
   "language": "python",
   "name": "python3"
  },
  "language_info": {
   "codemirror_mode": {
    "name": "ipython",
    "version": 3
   },
   "file_extension": ".py",
   "mimetype": "text/x-python",
   "name": "python",
   "nbconvert_exporter": "python",
   "pygments_lexer": "ipython3",
   "version": "3.9.6"
  },
  "orig_nbformat": 4
 },
 "nbformat": 4,
 "nbformat_minor": 2
}
